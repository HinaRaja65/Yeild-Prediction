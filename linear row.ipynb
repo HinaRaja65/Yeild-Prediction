{
 "cells": [
  {
   "cell_type": "markdown",
   "id": "d69c975b",
   "metadata": {},
   "source": [
    "# Linear Regression Model\n",
    "\n",
    "%%%%%%%%%%%%%%%%%%%%%%%%%%%%%%%%%%%%%%%%%%%%%%%%%%%%%%%%%%%%%%%%%%%%%%%%%%%%%%\n",
    "This code is the implementation of linear regression model for yield \n",
    "predication.\n",
    "\n",
    "We are using linear regression model which is imported from Sklearn library.\n",
    "\n",
    "Data is comprised of 234 samples. Each training sample is consist of 16 input\n",
    "features(x1,x2,x3,....) and corresponding output(y) i.e yield.\n",
    "\n",
    "x1= Flied \n",
    "x2= Seed\n",
    "x3= max temp\n",
    "x4= min temp\n",
    "x5= Wind speed\n",
    "x6= humidity\n",
    "x7= Precipitation\n",
    "x8= Rain fall\n",
    "x9= N\n",
    "x10=P\n",
    "x11=K\n",
    "x12=NDVI\n",
    "x13=NDMI\n",
    "x14=MSAVI\n",
    "x15=NRDE\n",
    "x16= Soil fertility\n",
    "\n",
    "y= Yield \n",
    "\n",
    "linear model\n",
    "h=theta0+ theta1*x1+ theta2*x2+ theta3*x3 .......theta16*x16\n",
    "\n",
    "these theta's are trained during training.\n",
    "\n",
    "%%%%%%%%%%%%%%%%%%%%%%%%%%%%%%%%%%%%%%%%%%%%%%%%%%%%%%%%%%%%%%%%%%%%%%%%%%%%%%%\n",
    "\n",
    "1. Importing required packages.\n",
    "2. Read the data/load the data.\n",
    "3. Data Cleaning.\n",
    "4. Visualizing the data, how data looks like.\n",
    "5. Spliting dataset into training and testing data.\n",
    "6. Imported Linear regression model is Trained using training data\n",
    "7. Predication is performed by trained model using testing data\n",
    "8. Evaluate the Model: Measure the Mean Sqaure Error\n",
    "9. Prediction for the new sample\n",
    "\n"
   ]
  },
  {
   "cell_type": "markdown",
   "id": "f6124089",
   "metadata": {},
   "source": [
    "# Importing required packages"
   ]
  },
  {
   "cell_type": "code",
   "execution_count": 1,
   "id": "23a68371",
   "metadata": {},
   "outputs": [],
   "source": [
    "import numpy as np\n",
    "import pandas as pd\n",
    "import matplotlib.pyplot as plt\n",
    "from sklearn import datasets, linear_model\n",
    "from sklearn.metrics import  mean_squared_error\n",
    "from sklearn.metrics import  mean_absolute_error\n"
   ]
  },
  {
   "cell_type": "markdown",
   "id": "4ff82a07",
   "metadata": {},
   "source": [
    "#  Read the data/load the data"
   ]
  },
  {
   "cell_type": "code",
   "execution_count": 2,
   "id": "216f95bb",
   "metadata": {},
   "outputs": [],
   "source": [
    "# we are using pandas libaray for reading the file\n",
    "# We are reading ecxel file and path should be where you ecxel file is located.\n",
    "# place \"r\" before the path string to address special character,such as '\\'.\n",
    "# Don't forget to put the file name at the end of the path + '.xlsx'\n",
    "\n",
    "data=pd.read_excel(r\"C:\\python\\Yield Predicition\\sugarrow.xlsx\")\n"
   ]
  },
  {
   "cell_type": "code",
   "execution_count": 3,
   "id": "c6076485",
   "metadata": {},
   "outputs": [
    {
     "data": {
      "text/html": [
       "<div>\n",
       "<style scoped>\n",
       "    .dataframe tbody tr th:only-of-type {\n",
       "        vertical-align: middle;\n",
       "    }\n",
       "\n",
       "    .dataframe tbody tr th {\n",
       "        vertical-align: top;\n",
       "    }\n",
       "\n",
       "    .dataframe thead th {\n",
       "        text-align: right;\n",
       "    }\n",
       "</style>\n",
       "<table border=\"1\" class=\"dataframe\">\n",
       "  <thead>\n",
       "    <tr style=\"text-align: right;\">\n",
       "      <th></th>\n",
       "      <th>Location</th>\n",
       "      <th>Seed</th>\n",
       "      <th>N</th>\n",
       "      <th>P</th>\n",
       "      <th>K</th>\n",
       "      <th>Soil Fertlity</th>\n",
       "      <th>mt1</th>\n",
       "      <th>mt2</th>\n",
       "      <th>mt3</th>\n",
       "      <th>mt4</th>\n",
       "      <th>...</th>\n",
       "      <th>NDRE5</th>\n",
       "      <th>NDRE6</th>\n",
       "      <th>NDRE7</th>\n",
       "      <th>NDRE8</th>\n",
       "      <th>NDRE9</th>\n",
       "      <th>NDRE10</th>\n",
       "      <th>NDRE11</th>\n",
       "      <th>NDRE12</th>\n",
       "      <th>ndre</th>\n",
       "      <th>Yield</th>\n",
       "    </tr>\n",
       "  </thead>\n",
       "  <tbody>\n",
       "    <tr>\n",
       "      <th>0</th>\n",
       "      <td>11</td>\n",
       "      <td>21</td>\n",
       "      <td>103</td>\n",
       "      <td>57</td>\n",
       "      <td>50</td>\n",
       "      <td>2</td>\n",
       "      <td>21.2</td>\n",
       "      <td>28.6</td>\n",
       "      <td>34.3</td>\n",
       "      <td>31.7</td>\n",
       "      <td>...</td>\n",
       "      <td>0.00</td>\n",
       "      <td>-0.02</td>\n",
       "      <td>0.19</td>\n",
       "      <td>0.17</td>\n",
       "      <td>0.26</td>\n",
       "      <td>0.16</td>\n",
       "      <td>0.02</td>\n",
       "      <td>-0.02</td>\n",
       "      <td>0.045833</td>\n",
       "      <td>818</td>\n",
       "    </tr>\n",
       "    <tr>\n",
       "      <th>1</th>\n",
       "      <td>11</td>\n",
       "      <td>21</td>\n",
       "      <td>103</td>\n",
       "      <td>57</td>\n",
       "      <td>50</td>\n",
       "      <td>2</td>\n",
       "      <td>27.6</td>\n",
       "      <td>26.3</td>\n",
       "      <td>31.9</td>\n",
       "      <td>34.4</td>\n",
       "      <td>...</td>\n",
       "      <td>0.21</td>\n",
       "      <td>0.18</td>\n",
       "      <td>0.28</td>\n",
       "      <td>0.35</td>\n",
       "      <td>0.27</td>\n",
       "      <td>0.23</td>\n",
       "      <td>0.12</td>\n",
       "      <td>-0.01</td>\n",
       "      <td>0.149167</td>\n",
       "      <td>836</td>\n",
       "    </tr>\n",
       "    <tr>\n",
       "      <th>2</th>\n",
       "      <td>11</td>\n",
       "      <td>21</td>\n",
       "      <td>69</td>\n",
       "      <td>23</td>\n",
       "      <td>25</td>\n",
       "      <td>1</td>\n",
       "      <td>21.2</td>\n",
       "      <td>28.6</td>\n",
       "      <td>34.3</td>\n",
       "      <td>31.7</td>\n",
       "      <td>...</td>\n",
       "      <td>0.06</td>\n",
       "      <td>0.09</td>\n",
       "      <td>0.24</td>\n",
       "      <td>0.18</td>\n",
       "      <td>0.20</td>\n",
       "      <td>0.12</td>\n",
       "      <td>0.09</td>\n",
       "      <td>-0.11</td>\n",
       "      <td>0.046667</td>\n",
       "      <td>615</td>\n",
       "    </tr>\n",
       "    <tr>\n",
       "      <th>3</th>\n",
       "      <td>11</td>\n",
       "      <td>21</td>\n",
       "      <td>102</td>\n",
       "      <td>56</td>\n",
       "      <td>50</td>\n",
       "      <td>1</td>\n",
       "      <td>27.6</td>\n",
       "      <td>26.3</td>\n",
       "      <td>31.9</td>\n",
       "      <td>34.4</td>\n",
       "      <td>...</td>\n",
       "      <td>0.02</td>\n",
       "      <td>0.15</td>\n",
       "      <td>0.29</td>\n",
       "      <td>0.30</td>\n",
       "      <td>0.25</td>\n",
       "      <td>0.16</td>\n",
       "      <td>0.09</td>\n",
       "      <td>-0.06</td>\n",
       "      <td>0.104167</td>\n",
       "      <td>719</td>\n",
       "    </tr>\n",
       "    <tr>\n",
       "      <th>4</th>\n",
       "      <td>11</td>\n",
       "      <td>22</td>\n",
       "      <td>103</td>\n",
       "      <td>57</td>\n",
       "      <td>50</td>\n",
       "      <td>2</td>\n",
       "      <td>25.8</td>\n",
       "      <td>27.7</td>\n",
       "      <td>41.7</td>\n",
       "      <td>44.9</td>\n",
       "      <td>...</td>\n",
       "      <td>0.06</td>\n",
       "      <td>0.09</td>\n",
       "      <td>0.24</td>\n",
       "      <td>0.18</td>\n",
       "      <td>0.20</td>\n",
       "      <td>0.12</td>\n",
       "      <td>0.09</td>\n",
       "      <td>-0.11</td>\n",
       "      <td>0.046667</td>\n",
       "      <td>592</td>\n",
       "    </tr>\n",
       "  </tbody>\n",
       "</table>\n",
       "<p>5 rows × 137 columns</p>\n",
       "</div>"
      ],
      "text/plain": [
       "   Location  Seed    N   P   K  Soil Fertlity   mt1   mt2   mt3   mt4  ...  \\\n",
       "0        11    21  103  57  50              2  21.2  28.6  34.3  31.7  ...   \n",
       "1        11    21  103  57  50              2  27.6  26.3  31.9  34.4  ...   \n",
       "2        11    21   69  23  25              1  21.2  28.6  34.3  31.7  ...   \n",
       "3        11    21  102  56  50              1  27.6  26.3  31.9  34.4  ...   \n",
       "4        11    22  103  57  50              2  25.8  27.7  41.7  44.9  ...   \n",
       "\n",
       "   NDRE5  NDRE6  NDRE7  NDRE8  NDRE9  NDRE10  NDRE11  NDRE12      ndre  Yield  \n",
       "0   0.00  -0.02   0.19   0.17   0.26    0.16    0.02   -0.02  0.045833    818  \n",
       "1   0.21   0.18   0.28   0.35   0.27    0.23    0.12   -0.01  0.149167    836  \n",
       "2   0.06   0.09   0.24   0.18   0.20    0.12    0.09   -0.11  0.046667    615  \n",
       "3   0.02   0.15   0.29   0.30   0.25    0.16    0.09   -0.06  0.104167    719  \n",
       "4   0.06   0.09   0.24   0.18   0.20    0.12    0.09   -0.11  0.046667    592  \n",
       "\n",
       "[5 rows x 137 columns]"
      ]
     },
     "execution_count": 3,
     "metadata": {},
     "output_type": "execute_result"
    }
   ],
   "source": [
    "#Showing the first five entries of data\n",
    "data.head()"
   ]
  },
  {
   "cell_type": "markdown",
   "id": "07d95e32",
   "metadata": {},
   "source": [
    "# Data Cleaning"
   ]
  },
  {
   "cell_type": "code",
   "execution_count": 4,
   "id": "de0ac00f",
   "metadata": {},
   "outputs": [],
   "source": [
    "# As there some extra columns so we need to perform data cleaning\n",
    "\n",
    "#data.drop(columns='Month', inplace=True)\n",
    "#data.head()"
   ]
  },
  {
   "cell_type": "markdown",
   "id": "10c0ba80",
   "metadata": {},
   "source": [
    "# Visualizing the data, how data looks like."
   ]
  },
  {
   "cell_type": "code",
   "execution_count": 5,
   "id": "e244e587",
   "metadata": {},
   "outputs": [
    {
     "name": "stdout",
     "output_type": "stream",
     "text": [
      "<class 'pandas.core.frame.DataFrame'>\n",
      "RangeIndex: 100 entries, 0 to 99\n",
      "Columns: 137 entries, Location to Yield\n",
      "dtypes: float64(130), int64(7)\n",
      "memory usage: 107.2 KB\n"
     ]
    }
   ],
   "source": [
    "# Information about your data, how many entries and which type of data is present in dataframe\n",
    "data.info()"
   ]
  },
  {
   "cell_type": "code",
   "execution_count": 6,
   "id": "2fef8d6a",
   "metadata": {},
   "outputs": [
    {
     "data": {
      "text/plain": [
       "(100, 137)"
      ]
     },
     "execution_count": 6,
     "metadata": {},
     "output_type": "execute_result"
    }
   ],
   "source": [
    "#tells the shape of dataframe\n",
    "data.shape"
   ]
  },
  {
   "cell_type": "code",
   "execution_count": 7,
   "id": "db0a57d4",
   "metadata": {},
   "outputs": [
    {
     "data": {
      "text/plain": [
       "<AxesSubplot:xlabel='NDRE12', ylabel='Yield'>"
      ]
     },
     "execution_count": 7,
     "metadata": {},
     "output_type": "execute_result"
    },
    {
     "data": {
      "image/png": "[encoded data removed]",
      "text/plain": [
       "<Figure size 432x432 with 1 Axes>"
      ]
     },
     "metadata": {
      "needs_background": "light"
     },
     "output_type": "display_data"
    }
   ],
   "source": [
    "data.plot(kind='scatter', x='NDRE12', y='Yield', figsize=(6,6))"
   ]
  },
  {
   "cell_type": "code",
   "execution_count": 8,
   "id": "42019395",
   "metadata": {},
   "outputs": [
    {
     "data": {
      "text/plain": [
       "<AxesSubplot:xlabel='NDRE8', ylabel='Yield'>"
      ]
     },
     "execution_count": 8,
     "metadata": {},
     "output_type": "execute_result"
    },
    {
     "data": {
      "image/png": "[encoded data removed]",
      "text/plain": [
       "<Figure size 432x432 with 1 Axes>"
      ]
     },
     "metadata": {
      "needs_background": "light"
     },
     "output_type": "display_data"
    }
   ],
   "source": [
    "data.plot(kind='scatter', x='NDRE8', y='Yield', figsize=(6,6))"
   ]
  },
  {
   "cell_type": "code",
   "execution_count": 9,
   "id": "5042a386",
   "metadata": {},
   "outputs": [
    {
     "data": {
      "text/plain": [
       "<AxesSubplot:xlabel='ndre', ylabel='Yield'>"
      ]
     },
     "execution_count": 9,
     "metadata": {},
     "output_type": "execute_result"
    },
    {
     "data": {
      "image/png": "[encoded data removed]",
      "text/plain": [
       "<Figure size 432x432 with 1 Axes>"
      ]
     },
     "metadata": {
      "needs_background": "light"
     },
     "output_type": "display_data"
    }
   ],
   "source": [
    "data.plot(kind='scatter', x='ndre', y='Yield', figsize=(6,6))"
   ]
  },
  {
   "cell_type": "code",
   "execution_count": null,
   "id": "73b87300",
   "metadata": {},
   "outputs": [],
   "source": []
  },
  {
   "cell_type": "code",
   "execution_count": null,
   "id": "bb40f824",
   "metadata": {},
   "outputs": [],
   "source": []
  },
  {
   "cell_type": "markdown",
   "id": "3646dc8b",
   "metadata": {},
   "source": [
    "# Spliting dataset into training and testing data\n",
    "\n",
    "Total of 60 samples we are taking first 190 samples as training data and last 44 samples as testing data"
   ]
  },
  {
   "cell_type": "code",
   "execution_count": 10,
   "id": "eb0066ac",
   "metadata": {},
   "outputs": [
    {
     "data": {
      "text/html": [
       "<div>\n",
       "<style scoped>\n",
       "    .dataframe tbody tr th:only-of-type {\n",
       "        vertical-align: middle;\n",
       "    }\n",
       "\n",
       "    .dataframe tbody tr th {\n",
       "        vertical-align: top;\n",
       "    }\n",
       "\n",
       "    .dataframe thead th {\n",
       "        text-align: right;\n",
       "    }\n",
       "</style>\n",
       "<table border=\"1\" class=\"dataframe\">\n",
       "  <thead>\n",
       "    <tr style=\"text-align: right;\">\n",
       "      <th></th>\n",
       "      <th>Location</th>\n",
       "      <th>Seed</th>\n",
       "      <th>N</th>\n",
       "      <th>P</th>\n",
       "      <th>K</th>\n",
       "      <th>Soil Fertlity</th>\n",
       "      <th>mt1</th>\n",
       "      <th>mt2</th>\n",
       "      <th>mt3</th>\n",
       "      <th>mt4</th>\n",
       "      <th>mt5</th>\n",
       "      <th>mt6</th>\n",
       "      <th>mt7</th>\n",
       "      <th>mt8</th>\n",
       "      <th>mt9</th>\n",
       "      <th>mt10</th>\n",
       "      <th>mt11</th>\n",
       "      <th>mt12</th>\n",
       "    </tr>\n",
       "  </thead>\n",
       "  <tbody>\n",
       "    <tr>\n",
       "      <th>0</th>\n",
       "      <td>11</td>\n",
       "      <td>21</td>\n",
       "      <td>103</td>\n",
       "      <td>57</td>\n",
       "      <td>50</td>\n",
       "      <td>2</td>\n",
       "      <td>21.2</td>\n",
       "      <td>28.6</td>\n",
       "      <td>34.3</td>\n",
       "      <td>31.7</td>\n",
       "      <td>42.9</td>\n",
       "      <td>40.3</td>\n",
       "      <td>38.4</td>\n",
       "      <td>37.4</td>\n",
       "      <td>33.2</td>\n",
       "      <td>26.2</td>\n",
       "      <td>18.8</td>\n",
       "      <td>19.2</td>\n",
       "    </tr>\n",
       "    <tr>\n",
       "      <th>1</th>\n",
       "      <td>11</td>\n",
       "      <td>21</td>\n",
       "      <td>103</td>\n",
       "      <td>57</td>\n",
       "      <td>50</td>\n",
       "      <td>2</td>\n",
       "      <td>27.6</td>\n",
       "      <td>26.3</td>\n",
       "      <td>31.9</td>\n",
       "      <td>34.4</td>\n",
       "      <td>36.9</td>\n",
       "      <td>41.1</td>\n",
       "      <td>36.3</td>\n",
       "      <td>38.3</td>\n",
       "      <td>32.2</td>\n",
       "      <td>21.7</td>\n",
       "      <td>23.7</td>\n",
       "      <td>27.6</td>\n",
       "    </tr>\n",
       "    <tr>\n",
       "      <th>2</th>\n",
       "      <td>11</td>\n",
       "      <td>21</td>\n",
       "      <td>69</td>\n",
       "      <td>23</td>\n",
       "      <td>25</td>\n",
       "      <td>1</td>\n",
       "      <td>21.2</td>\n",
       "      <td>28.6</td>\n",
       "      <td>34.3</td>\n",
       "      <td>31.7</td>\n",
       "      <td>42.9</td>\n",
       "      <td>40.3</td>\n",
       "      <td>38.4</td>\n",
       "      <td>37.4</td>\n",
       "      <td>33.2</td>\n",
       "      <td>26.2</td>\n",
       "      <td>18.8</td>\n",
       "      <td>19.2</td>\n",
       "    </tr>\n",
       "    <tr>\n",
       "      <th>3</th>\n",
       "      <td>11</td>\n",
       "      <td>21</td>\n",
       "      <td>102</td>\n",
       "      <td>56</td>\n",
       "      <td>50</td>\n",
       "      <td>1</td>\n",
       "      <td>27.6</td>\n",
       "      <td>26.3</td>\n",
       "      <td>31.9</td>\n",
       "      <td>34.4</td>\n",
       "      <td>36.9</td>\n",
       "      <td>41.1</td>\n",
       "      <td>36.3</td>\n",
       "      <td>38.3</td>\n",
       "      <td>32.2</td>\n",
       "      <td>21.7</td>\n",
       "      <td>23.7</td>\n",
       "      <td>27.6</td>\n",
       "    </tr>\n",
       "    <tr>\n",
       "      <th>4</th>\n",
       "      <td>11</td>\n",
       "      <td>22</td>\n",
       "      <td>103</td>\n",
       "      <td>57</td>\n",
       "      <td>50</td>\n",
       "      <td>2</td>\n",
       "      <td>25.8</td>\n",
       "      <td>27.7</td>\n",
       "      <td>41.7</td>\n",
       "      <td>44.9</td>\n",
       "      <td>42.8</td>\n",
       "      <td>39.3</td>\n",
       "      <td>36.3</td>\n",
       "      <td>36.8</td>\n",
       "      <td>32.3</td>\n",
       "      <td>29.1</td>\n",
       "      <td>22.5</td>\n",
       "      <td>18.5</td>\n",
       "    </tr>\n",
       "  </tbody>\n",
       "</table>\n",
       "</div>"
      ],
      "text/plain": [
       "   Location  Seed    N   P   K  Soil Fertlity   mt1   mt2   mt3   mt4   mt5  \\\n",
       "0        11    21  103  57  50              2  21.2  28.6  34.3  31.7  42.9   \n",
       "1        11    21  103  57  50              2  27.6  26.3  31.9  34.4  36.9   \n",
       "2        11    21   69  23  25              1  21.2  28.6  34.3  31.7  42.9   \n",
       "3        11    21  102  56  50              1  27.6  26.3  31.9  34.4  36.9   \n",
       "4        11    22  103  57  50              2  25.8  27.7  41.7  44.9  42.8   \n",
       "\n",
       "    mt6   mt7   mt8   mt9  mt10  mt11  mt12  \n",
       "0  40.3  38.4  37.4  33.2  26.2  18.8  19.2  \n",
       "1  41.1  36.3  38.3  32.2  21.7  23.7  27.6  \n",
       "2  40.3  38.4  37.4  33.2  26.2  18.8  19.2  \n",
       "3  41.1  36.3  38.3  32.2  21.7  23.7  27.6  \n",
       "4  39.3  36.3  36.8  32.3  29.1  22.5  18.5  "
      ]
     },
     "execution_count": 10,
     "metadata": {},
     "output_type": "execute_result"
    }
   ],
   "source": [
    "#Training data\n",
    "training_data=data.iloc[:80, 0:18]\n",
    "training_data.head()"
   ]
  },
  {
   "cell_type": "code",
   "execution_count": 11,
   "id": "ab33be7e",
   "metadata": {},
   "outputs": [
    {
     "data": {
      "text/plain": [
       "(80, 18)"
      ]
     },
     "execution_count": 11,
     "metadata": {},
     "output_type": "execute_result"
    }
   ],
   "source": [
    "training_data.shape"
   ]
  },
  {
   "cell_type": "code",
   "execution_count": 12,
   "id": "55ac1b3a",
   "metadata": {},
   "outputs": [
    {
     "data": {
      "text/html": [
       "<div>\n",
       "<style scoped>\n",
       "    .dataframe tbody tr th:only-of-type {\n",
       "        vertical-align: middle;\n",
       "    }\n",
       "\n",
       "    .dataframe tbody tr th {\n",
       "        vertical-align: top;\n",
       "    }\n",
       "\n",
       "    .dataframe thead th {\n",
       "        text-align: right;\n",
       "    }\n",
       "</style>\n",
       "<table border=\"1\" class=\"dataframe\">\n",
       "  <thead>\n",
       "    <tr style=\"text-align: right;\">\n",
       "      <th></th>\n",
       "      <th>Location</th>\n",
       "      <th>Seed</th>\n",
       "      <th>N</th>\n",
       "      <th>P</th>\n",
       "      <th>K</th>\n",
       "      <th>Soil Fertlity</th>\n",
       "      <th>mt1</th>\n",
       "      <th>mt2</th>\n",
       "      <th>mt3</th>\n",
       "      <th>mt4</th>\n",
       "      <th>mt5</th>\n",
       "      <th>mt6</th>\n",
       "      <th>mt7</th>\n",
       "      <th>mt8</th>\n",
       "      <th>mt9</th>\n",
       "      <th>mt10</th>\n",
       "      <th>mt11</th>\n",
       "      <th>mt12</th>\n",
       "    </tr>\n",
       "  </thead>\n",
       "  <tbody>\n",
       "    <tr>\n",
       "      <th>count</th>\n",
       "      <td>80.000000</td>\n",
       "      <td>80.00000</td>\n",
       "      <td>80.000000</td>\n",
       "      <td>80.000000</td>\n",
       "      <td>80.000000</td>\n",
       "      <td>80.000000</td>\n",
       "      <td>80.000000</td>\n",
       "      <td>80.000000</td>\n",
       "      <td>80.000000</td>\n",
       "      <td>80.000000</td>\n",
       "      <td>80.000000</td>\n",
       "      <td>80.000000</td>\n",
       "      <td>80.000000</td>\n",
       "      <td>80.000000</td>\n",
       "      <td>80.000000</td>\n",
       "      <td>80.000000</td>\n",
       "      <td>80.000000</td>\n",
       "      <td>80.000000</td>\n",
       "    </tr>\n",
       "    <tr>\n",
       "      <th>mean</th>\n",
       "      <td>13.025000</td>\n",
       "      <td>22.17500</td>\n",
       "      <td>92.187500</td>\n",
       "      <td>46.437500</td>\n",
       "      <td>42.987500</td>\n",
       "      <td>2.012500</td>\n",
       "      <td>27.398333</td>\n",
       "      <td>31.593750</td>\n",
       "      <td>37.985833</td>\n",
       "      <td>41.631250</td>\n",
       "      <td>44.340417</td>\n",
       "      <td>43.976875</td>\n",
       "      <td>41.509792</td>\n",
       "      <td>40.776458</td>\n",
       "      <td>36.790625</td>\n",
       "      <td>29.413750</td>\n",
       "      <td>24.853274</td>\n",
       "      <td>22.883333</td>\n",
       "    </tr>\n",
       "    <tr>\n",
       "      <th>std</th>\n",
       "      <td>1.750045</td>\n",
       "      <td>0.75933</td>\n",
       "      <td>24.081136</td>\n",
       "      <td>17.312353</td>\n",
       "      <td>11.522673</td>\n",
       "      <td>0.787461</td>\n",
       "      <td>4.498665</td>\n",
       "      <td>5.573322</td>\n",
       "      <td>3.637652</td>\n",
       "      <td>5.354203</td>\n",
       "      <td>3.775684</td>\n",
       "      <td>3.721882</td>\n",
       "      <td>3.525246</td>\n",
       "      <td>3.420157</td>\n",
       "      <td>4.355107</td>\n",
       "      <td>4.787715</td>\n",
       "      <td>3.477585</td>\n",
       "      <td>3.814592</td>\n",
       "    </tr>\n",
       "    <tr>\n",
       "      <th>min</th>\n",
       "      <td>11.000000</td>\n",
       "      <td>21.00000</td>\n",
       "      <td>40.000000</td>\n",
       "      <td>23.000000</td>\n",
       "      <td>0.000000</td>\n",
       "      <td>1.000000</td>\n",
       "      <td>19.000000</td>\n",
       "      <td>20.000000</td>\n",
       "      <td>31.900000</td>\n",
       "      <td>31.700000</td>\n",
       "      <td>36.900000</td>\n",
       "      <td>35.000000</td>\n",
       "      <td>34.000000</td>\n",
       "      <td>28.000000</td>\n",
       "      <td>23.000000</td>\n",
       "      <td>21.000000</td>\n",
       "      <td>18.800000</td>\n",
       "      <td>18.000000</td>\n",
       "    </tr>\n",
       "    <tr>\n",
       "      <th>25%</th>\n",
       "      <td>11.000000</td>\n",
       "      <td>22.00000</td>\n",
       "      <td>70.500000</td>\n",
       "      <td>25.000000</td>\n",
       "      <td>34.250000</td>\n",
       "      <td>1.000000</td>\n",
       "      <td>24.000000</td>\n",
       "      <td>28.175000</td>\n",
       "      <td>35.375000</td>\n",
       "      <td>38.000000</td>\n",
       "      <td>42.900000</td>\n",
       "      <td>41.100000</td>\n",
       "      <td>38.400000</td>\n",
       "      <td>38.300000</td>\n",
       "      <td>33.200000</td>\n",
       "      <td>26.200000</td>\n",
       "      <td>23.000000</td>\n",
       "      <td>20.000000</td>\n",
       "    </tr>\n",
       "    <tr>\n",
       "      <th>50%</th>\n",
       "      <td>14.000000</td>\n",
       "      <td>22.00000</td>\n",
       "      <td>107.000000</td>\n",
       "      <td>50.000000</td>\n",
       "      <td>50.000000</td>\n",
       "      <td>2.000000</td>\n",
       "      <td>27.600000</td>\n",
       "      <td>30.000000</td>\n",
       "      <td>38.250000</td>\n",
       "      <td>42.000000</td>\n",
       "      <td>45.000000</td>\n",
       "      <td>43.500000</td>\n",
       "      <td>41.550000</td>\n",
       "      <td>41.000000</td>\n",
       "      <td>37.100000</td>\n",
       "      <td>29.000000</td>\n",
       "      <td>25.000000</td>\n",
       "      <td>22.333333</td>\n",
       "    </tr>\n",
       "    <tr>\n",
       "      <th>75%</th>\n",
       "      <td>15.000000</td>\n",
       "      <td>23.00000</td>\n",
       "      <td>110.000000</td>\n",
       "      <td>60.000000</td>\n",
       "      <td>50.000000</td>\n",
       "      <td>3.000000</td>\n",
       "      <td>29.050000</td>\n",
       "      <td>34.400000</td>\n",
       "      <td>40.250000</td>\n",
       "      <td>46.000000</td>\n",
       "      <td>47.000000</td>\n",
       "      <td>47.000000</td>\n",
       "      <td>44.000000</td>\n",
       "      <td>43.000000</td>\n",
       "      <td>40.000000</td>\n",
       "      <td>33.000000</td>\n",
       "      <td>28.000000</td>\n",
       "      <td>25.000000</td>\n",
       "    </tr>\n",
       "    <tr>\n",
       "      <th>max</th>\n",
       "      <td>15.000000</td>\n",
       "      <td>23.00000</td>\n",
       "      <td>120.000000</td>\n",
       "      <td>69.000000</td>\n",
       "      <td>50.000000</td>\n",
       "      <td>3.000000</td>\n",
       "      <td>44.000000</td>\n",
       "      <td>48.000000</td>\n",
       "      <td>47.000000</td>\n",
       "      <td>49.000000</td>\n",
       "      <td>50.000000</td>\n",
       "      <td>51.000000</td>\n",
       "      <td>49.000000</td>\n",
       "      <td>49.000000</td>\n",
       "      <td>44.000000</td>\n",
       "      <td>41.000000</td>\n",
       "      <td>31.000000</td>\n",
       "      <td>41.000000</td>\n",
       "    </tr>\n",
       "  </tbody>\n",
       "</table>\n",
       "</div>"
      ],
      "text/plain": [
       "        Location      Seed           N          P          K  Soil Fertlity  \\\n",
       "count  80.000000  80.00000   80.000000  80.000000  80.000000      80.000000   \n",
       "mean   13.025000  22.17500   92.187500  46.437500  42.987500       2.012500   \n",
       "std     1.750045   0.75933   24.081136  17.312353  11.522673       0.787461   \n",
       "min    11.000000  21.00000   40.000000  23.000000   0.000000       1.000000   \n",
       "25%    11.000000  22.00000   70.500000  25.000000  34.250000       1.000000   \n",
       "50%    14.000000  22.00000  107.000000  50.000000  50.000000       2.000000   \n",
       "75%    15.000000  23.00000  110.000000  60.000000  50.000000       3.000000   \n",
       "max    15.000000  23.00000  120.000000  69.000000  50.000000       3.000000   \n",
       "\n",
       "             mt1        mt2        mt3        mt4        mt5        mt6  \\\n",
       "count  80.000000  80.000000  80.000000  80.000000  80.000000  80.000000   \n",
       "mean   27.398333  31.593750  37.985833  41.631250  44.340417  43.976875   \n",
       "std     4.498665   5.573322   3.637652   5.354203   3.775684   3.721882   \n",
       "min    19.000000  20.000000  31.900000  31.700000  36.900000  35.000000   \n",
       "25%    24.000000  28.175000  35.375000  38.000000  42.900000  41.100000   \n",
       "50%    27.600000  30.000000  38.250000  42.000000  45.000000  43.500000   \n",
       "75%    29.050000  34.400000  40.250000  46.000000  47.000000  47.000000   \n",
       "max    44.000000  48.000000  47.000000  49.000000  50.000000  51.000000   \n",
       "\n",
       "             mt7        mt8        mt9       mt10       mt11       mt12  \n",
       "count  80.000000  80.000000  80.000000  80.000000  80.000000  80.000000  \n",
       "mean   41.509792  40.776458  36.790625  29.413750  24.853274  22.883333  \n",
       "std     3.525246   3.420157   4.355107   4.787715   3.477585   3.814592  \n",
       "min    34.000000  28.000000  23.000000  21.000000  18.800000  18.000000  \n",
       "25%    38.400000  38.300000  33.200000  26.200000  23.000000  20.000000  \n",
       "50%    41.550000  41.000000  37.100000  29.000000  25.000000  22.333333  \n",
       "75%    44.000000  43.000000  40.000000  33.000000  28.000000  25.000000  \n",
       "max    49.000000  49.000000  44.000000  41.000000  31.000000  41.000000  "
      ]
     },
     "execution_count": 12,
     "metadata": {},
     "output_type": "execute_result"
    }
   ],
   "source": [
    "training_data.describe()"
   ]
  },
  {
   "cell_type": "code",
   "execution_count": 13,
   "id": "7324cd87",
   "metadata": {},
   "outputs": [
    {
     "data": {
      "text/plain": [
       "0    818\n",
       "1    836\n",
       "2    615\n",
       "3    719\n",
       "4    592\n",
       "Name: Yield, dtype: int64"
      ]
     },
     "execution_count": 13,
     "metadata": {},
     "output_type": "execute_result"
    }
   ],
   "source": [
    "training_label=data.iloc[:80, -1]\n",
    "training_label.head()"
   ]
  },
  {
   "cell_type": "code",
   "execution_count": 14,
   "id": "dcecbf75",
   "metadata": {},
   "outputs": [
    {
     "name": "stdout",
     "output_type": "stream",
     "text": [
      "shape: (80,)\n",
      "type: int64\n"
     ]
    }
   ],
   "source": [
    "print('shape:', training_label.shape)\n",
    "print('type:', training_label.dtype)"
   ]
  },
  {
   "cell_type": "code",
   "execution_count": 15,
   "id": "f42cbdab",
   "metadata": {},
   "outputs": [
    {
     "data": {
      "text/html": [
       "<div>\n",
       "<style scoped>\n",
       "    .dataframe tbody tr th:only-of-type {\n",
       "        vertical-align: middle;\n",
       "    }\n",
       "\n",
       "    .dataframe tbody tr th {\n",
       "        vertical-align: top;\n",
       "    }\n",
       "\n",
       "    .dataframe thead th {\n",
       "        text-align: right;\n",
       "    }\n",
       "</style>\n",
       "<table border=\"1\" class=\"dataframe\">\n",
       "  <thead>\n",
       "    <tr style=\"text-align: right;\">\n",
       "      <th></th>\n",
       "      <th>Location</th>\n",
       "      <th>Seed</th>\n",
       "      <th>N</th>\n",
       "      <th>P</th>\n",
       "      <th>K</th>\n",
       "      <th>Soil Fertlity</th>\n",
       "      <th>mt1</th>\n",
       "      <th>mt2</th>\n",
       "      <th>mt3</th>\n",
       "      <th>mt4</th>\n",
       "      <th>mt5</th>\n",
       "      <th>mt6</th>\n",
       "      <th>mt7</th>\n",
       "      <th>mt8</th>\n",
       "      <th>mt9</th>\n",
       "      <th>mt10</th>\n",
       "      <th>mt11</th>\n",
       "      <th>mt12</th>\n",
       "    </tr>\n",
       "  </thead>\n",
       "  <tbody>\n",
       "    <tr>\n",
       "      <th>80</th>\n",
       "      <td>15</td>\n",
       "      <td>21</td>\n",
       "      <td>50</td>\n",
       "      <td>25</td>\n",
       "      <td>25</td>\n",
       "      <td>2</td>\n",
       "      <td>30.0</td>\n",
       "      <td>41.0</td>\n",
       "      <td>47.0</td>\n",
       "      <td>48.0</td>\n",
       "      <td>45.0</td>\n",
       "      <td>43.0</td>\n",
       "      <td>43.0</td>\n",
       "      <td>43.0</td>\n",
       "      <td>42.0</td>\n",
       "      <td>36.0</td>\n",
       "      <td>29.0</td>\n",
       "      <td>27.0</td>\n",
       "    </tr>\n",
       "    <tr>\n",
       "      <th>81</th>\n",
       "      <td>15</td>\n",
       "      <td>21</td>\n",
       "      <td>80</td>\n",
       "      <td>25</td>\n",
       "      <td>25</td>\n",
       "      <td>2</td>\n",
       "      <td>32.0</td>\n",
       "      <td>40.0</td>\n",
       "      <td>45.0</td>\n",
       "      <td>49.0</td>\n",
       "      <td>49.0</td>\n",
       "      <td>45.0</td>\n",
       "      <td>40.0</td>\n",
       "      <td>42.0</td>\n",
       "      <td>42.0</td>\n",
       "      <td>33.0</td>\n",
       "      <td>30.0</td>\n",
       "      <td>25.0</td>\n",
       "    </tr>\n",
       "    <tr>\n",
       "      <th>82</th>\n",
       "      <td>15</td>\n",
       "      <td>21</td>\n",
       "      <td>110</td>\n",
       "      <td>50</td>\n",
       "      <td>50</td>\n",
       "      <td>2</td>\n",
       "      <td>26.0</td>\n",
       "      <td>26.0</td>\n",
       "      <td>42.0</td>\n",
       "      <td>47.0</td>\n",
       "      <td>48.0</td>\n",
       "      <td>45.0</td>\n",
       "      <td>42.0</td>\n",
       "      <td>48.0</td>\n",
       "      <td>40.0</td>\n",
       "      <td>30.0</td>\n",
       "      <td>30.0</td>\n",
       "      <td>24.0</td>\n",
       "    </tr>\n",
       "    <tr>\n",
       "      <th>83</th>\n",
       "      <td>15</td>\n",
       "      <td>21</td>\n",
       "      <td>110</td>\n",
       "      <td>70</td>\n",
       "      <td>50</td>\n",
       "      <td>2</td>\n",
       "      <td>31.0</td>\n",
       "      <td>32.0</td>\n",
       "      <td>44.0</td>\n",
       "      <td>48.0</td>\n",
       "      <td>47.0</td>\n",
       "      <td>50.0</td>\n",
       "      <td>46.0</td>\n",
       "      <td>46.0</td>\n",
       "      <td>41.0</td>\n",
       "      <td>35.0</td>\n",
       "      <td>31.0</td>\n",
       "      <td>29.0</td>\n",
       "    </tr>\n",
       "    <tr>\n",
       "      <th>84</th>\n",
       "      <td>15</td>\n",
       "      <td>21</td>\n",
       "      <td>110</td>\n",
       "      <td>69</td>\n",
       "      <td>50</td>\n",
       "      <td>2</td>\n",
       "      <td>38.0</td>\n",
       "      <td>41.0</td>\n",
       "      <td>41.0</td>\n",
       "      <td>45.0</td>\n",
       "      <td>46.0</td>\n",
       "      <td>44.0</td>\n",
       "      <td>44.0</td>\n",
       "      <td>46.0</td>\n",
       "      <td>44.0</td>\n",
       "      <td>37.0</td>\n",
       "      <td>31.0</td>\n",
       "      <td>27.0</td>\n",
       "    </tr>\n",
       "  </tbody>\n",
       "</table>\n",
       "</div>"
      ],
      "text/plain": [
       "    Location  Seed    N   P   K  Soil Fertlity   mt1   mt2   mt3   mt4   mt5  \\\n",
       "80        15    21   50  25  25              2  30.0  41.0  47.0  48.0  45.0   \n",
       "81        15    21   80  25  25              2  32.0  40.0  45.0  49.0  49.0   \n",
       "82        15    21  110  50  50              2  26.0  26.0  42.0  47.0  48.0   \n",
       "83        15    21  110  70  50              2  31.0  32.0  44.0  48.0  47.0   \n",
       "84        15    21  110  69  50              2  38.0  41.0  41.0  45.0  46.0   \n",
       "\n",
       "     mt6   mt7   mt8   mt9  mt10  mt11  mt12  \n",
       "80  43.0  43.0  43.0  42.0  36.0  29.0  27.0  \n",
       "81  45.0  40.0  42.0  42.0  33.0  30.0  25.0  \n",
       "82  45.0  42.0  48.0  40.0  30.0  30.0  24.0  \n",
       "83  50.0  46.0  46.0  41.0  35.0  31.0  29.0  \n",
       "84  44.0  44.0  46.0  44.0  37.0  31.0  27.0  "
      ]
     },
     "execution_count": 15,
     "metadata": {},
     "output_type": "execute_result"
    }
   ],
   "source": [
    "#testing data\n",
    "\n",
    "testing_data=data.iloc[80:, 0:18]\n",
    "testing_data.head()"
   ]
  },
  {
   "cell_type": "code",
   "execution_count": 16,
   "id": "ced010c1",
   "metadata": {},
   "outputs": [
    {
     "data": {
      "text/plain": [
       "80    602\n",
       "81    612\n",
       "82    621\n",
       "83    632\n",
       "84    698\n",
       "Name: Yield, dtype: int64"
      ]
     },
     "execution_count": 16,
     "metadata": {},
     "output_type": "execute_result"
    }
   ],
   "source": [
    "testing_label=data.iloc[80:, -1]\n",
    "testing_label.head()"
   ]
  },
  {
   "cell_type": "markdown",
   "id": "df4740a4",
   "metadata": {},
   "source": [
    "# Imported Linear regression model is Trained using training data"
   ]
  },
  {
   "cell_type": "code",
   "execution_count": 17,
   "id": "99f8b6a6",
   "metadata": {},
   "outputs": [],
   "source": [
    "# linear regression model from sklearn is used\n",
    "# normalization is performed\n",
    "model = linear_model.LinearRegression(normalize=True)\n",
    "\n",
    "#model is trained using our data\n",
    "model.fit(training_data,training_label)\n",
    "y_train_pred = model.predict(training_data)"
   ]
  },
  {
   "cell_type": "markdown",
   "id": "ba73f084",
   "metadata": {},
   "source": [
    "# Predication is performed by trained model using testing data"
   ]
  },
  {
   "cell_type": "code",
   "execution_count": 18,
   "id": "7186362b",
   "metadata": {},
   "outputs": [],
   "source": [
    "# Now prediction is formed using trained model\n",
    "y_predicted = model.predict(testing_data)"
   ]
  },
  {
   "cell_type": "code",
   "execution_count": 19,
   "id": "8d215a37",
   "metadata": {},
   "outputs": [
    {
     "name": "stdout",
     "output_type": "stream",
     "text": [
      "Feature: 0, Score: -24.27727\n",
      "Feature: 1, Score: -6.81243\n",
      "Feature: 2, Score: 1.37396\n",
      "Feature: 3, Score: 0.08109\n",
      "Feature: 4, Score: -2.47970\n",
      "Feature: 5, Score: -41.77909\n",
      "Feature: 6, Score: 0.60480\n",
      "Feature: 7, Score: 5.49913\n",
      "Feature: 8, Score: -4.24122\n",
      "Feature: 9, Score: 1.10805\n",
      "Feature: 10, Score: -3.51070\n",
      "Feature: 11, Score: -0.20100\n",
      "Feature: 12, Score: 7.48060\n",
      "Feature: 13, Score: 9.86613\n",
      "Feature: 14, Score: -6.16106\n",
      "Feature: 15, Score: 2.00507\n",
      "Feature: 16, Score: -4.88708\n",
      "Feature: 17, Score: 4.28683\n"
     ]
    },
    {
     "data": {
      "image/png": "[encoded data removed]",
      "text/plain": [
       "<Figure size 432x288 with 1 Axes>"
      ]
     },
     "metadata": {
      "needs_background": "light"
     },
     "output_type": "display_data"
    }
   ],
   "source": [
    "# Checking the importance of features\n",
    "importance = model.coef_\n",
    "\n",
    "# summarize feature importance\n",
    "for i,v in enumerate(importance):\n",
    "\tprint('Feature: %0d, Score: %.5f' % (i,v))\n",
    "# plot feature importance\n",
    "\n",
    "plt.bar([x for x in range(len(importance))], importance)\n",
    "plt.show()"
   ]
  },
  {
   "cell_type": "markdown",
   "id": "46709b16",
   "metadata": {},
   "source": [
    "# Evaluate the Model: Measure the Mean Sqaure Error"
   ]
  },
  {
   "cell_type": "code",
   "execution_count": 20,
   "id": "289232fa",
   "metadata": {},
   "outputs": [
    {
     "name": "stdout",
     "output_type": "stream",
     "text": [
      "Mean squared error is:  1026.3522058456917\n",
      "Weights:  [-24.27726837  -6.81243042   1.37395812   0.08109207  -2.47970361\n",
      " -41.77909482   0.60480367   5.4991345   -4.24121884   1.108054\n",
      "  -3.51070366  -0.20100231   7.48059972   9.86613142  -6.16105806\n",
      "   2.00507221  -4.88708307   4.28682532]\n",
      "Intercept:  764.4310700509961\n"
     ]
    }
   ],
   "source": [
    "# Model is evaluated by measuring Mean squared error\n",
    "print(\"Mean squared error is: \", mean_squared_error(testing_label, y_predicted))\n",
    "\n",
    "print(\"Weights: \", model.coef_)\n",
    "print(\"Intercept: \", model.intercept_)"
   ]
  },
  {
   "cell_type": "code",
   "execution_count": 21,
   "id": "8cdf87f6",
   "metadata": {},
   "outputs": [
    {
     "name": "stdout",
     "output_type": "stream",
     "text": [
      "MAE: 61.074\n",
      "MAE: 26.529\n"
     ]
    }
   ],
   "source": [
    "training_error= mean_absolute_error(training_label, y_train_pred)\n",
    "print('MAE: %.3f' % training_error)\n",
    "error= mean_absolute_error(testing_label, y_predicted)\n",
    "print('MAE: %.3f' % error)"
   ]
  },
  {
   "cell_type": "code",
   "execution_count": 22,
   "id": "3e814f47",
   "metadata": {},
   "outputs": [
    {
     "data": {
      "text/plain": [
       "<Figure size 432x288 with 0 Axes>"
      ]
     },
     "execution_count": 22,
     "metadata": {},
     "output_type": "execute_result"
    },
    {
     "data": {
      "image/png": "[encoded data removed]",
      "text/plain": [
       "<Figure size 432x288 with 1 Axes>"
      ]
     },
     "metadata": {
      "needs_background": "light"
     },
     "output_type": "display_data"
    },
    {
     "data": {
      "text/plain": [
       "<Figure size 432x288 with 0 Axes>"
      ]
     },
     "metadata": {},
     "output_type": "display_data"
    }
   ],
   "source": [
    "plt.plot(training_label, y_train_pred,'*r')\n",
    "plt.plot(testing_label, y_predicted, '*g')\n",
    "plt.figure()\n"
   ]
  },
  {
   "cell_type": "code",
   "execution_count": 23,
   "id": "7f993dd9",
   "metadata": {},
   "outputs": [
    {
     "data": {
      "text/plain": [
       "(80,)"
      ]
     },
     "execution_count": 23,
     "metadata": {},
     "output_type": "execute_result"
    }
   ],
   "source": [
    "\n",
    "x = training_data.iloc[:,14]\n",
    "x.shape\n",
    "y_train_pred.shape"
   ]
  },
  {
   "cell_type": "code",
   "execution_count": 24,
   "id": "ceba5c98",
   "metadata": {},
   "outputs": [
    {
     "data": {
      "text/plain": [
       "(20,)"
      ]
     },
     "execution_count": 24,
     "metadata": {},
     "output_type": "execute_result"
    }
   ],
   "source": [
    "x1 = testing_data.iloc[:,14]\n",
    "x.shape\n",
    "y_predicted.shape"
   ]
  },
  {
   "cell_type": "code",
   "execution_count": 25,
   "id": "cacca9b9",
   "metadata": {},
   "outputs": [
    {
     "data": {
      "image/png": "[encoded data removed]",
      "text/plain": [
       "<Figure size 432x288 with 1 Axes>"
      ]
     },
     "metadata": {},
     "output_type": "display_data"
    }
   ],
   "source": [
    "plt.scatter(x, y_train_pred, color=\"black\")\n",
    "plt.plot(x1, y_predicted, color=\"blue\", linewidth=3)\n",
    "\n",
    "plt.xticks(())\n",
    "plt.yticks(())\n",
    "\n",
    "plt.show()"
   ]
  },
  {
   "cell_type": "markdown",
   "id": "e23619b9",
   "metadata": {},
   "source": [
    "#  Prediction for the new sample"
   ]
  },
  {
   "cell_type": "code",
   "execution_count": 26,
   "id": "85d43fbb",
   "metadata": {},
   "outputs": [],
   "source": [
    "#Just for checking I have taken testing sample"
   ]
  },
  {
   "cell_type": "code",
   "execution_count": 27,
   "id": "6b5c4eee",
   "metadata": {},
   "outputs": [
    {
     "name": "stdout",
     "output_type": "stream",
     "text": [
      "input features\n"
     ]
    },
    {
     "data": {
      "text/plain": [
       "Location          15.0\n",
       "Seed              21.0\n",
       "N                110.0\n",
       "P                 70.0\n",
       "K                 50.0\n",
       "Soil Fertlity      2.0\n",
       "mt1               31.0\n",
       "mt2               32.0\n",
       "mt3               44.0\n",
       "mt4               48.0\n",
       "mt5               47.0\n",
       "mt6               50.0\n",
       "mt7               46.0\n",
       "mt8               46.0\n",
       "mt9               41.0\n",
       "mt10              35.0\n",
       "mt11              31.0\n",
       "mt12              29.0\n",
       "Name: 83, dtype: float64"
      ]
     },
     "execution_count": 27,
     "metadata": {},
     "output_type": "execute_result"
    }
   ],
   "source": [
    "print('input features')\n",
    "testing_data.iloc[3]"
   ]
  },
  {
   "cell_type": "code",
   "execution_count": 28,
   "id": "a6bd28af",
   "metadata": {},
   "outputs": [
    {
     "name": "stdout",
     "output_type": "stream",
     "text": [
      "Yield\n"
     ]
    },
    {
     "data": {
      "text/plain": [
       "632"
      ]
     },
     "execution_count": 28,
     "metadata": {},
     "output_type": "execute_result"
    }
   ],
   "source": [
    "print('Yield')\n",
    "testing_label.iloc[3]"
   ]
  },
  {
   "cell_type": "code",
   "execution_count": 29,
   "id": "9ecf344e",
   "metadata": {},
   "outputs": [],
   "source": [
    "# Here you can enter new input in array below"
   ]
  },
  {
   "cell_type": "code",
   "execution_count": 30,
   "id": "722e1dae",
   "metadata": {},
   "outputs": [
    {
     "data": {
      "text/plain": [
       "array([ 15,  21, 110,  70,  50,   2,  31,  32,  44,  48,  47,  50,  46,\n",
       "        46,  41,  35,  31,  29])"
      ]
     },
     "execution_count": 30,
     "metadata": {},
     "output_type": "execute_result"
    }
   ],
   "source": [
    "test_sample= np.array([15,21,110,70,50,2,31,32,44,48,47,50,46,46,41,35,31,29])\n",
    "test_sample"
   ]
  },
  {
   "cell_type": "code",
   "execution_count": 31,
   "id": "41fdd563",
   "metadata": {},
   "outputs": [
    {
     "data": {
      "text/plain": [
       "(18,)"
      ]
     },
     "execution_count": 31,
     "metadata": {},
     "output_type": "execute_result"
    }
   ],
   "source": [
    "test_sample.shape"
   ]
  },
  {
   "cell_type": "code",
   "execution_count": 32,
   "id": "5089eb7e",
   "metadata": {},
   "outputs": [
    {
     "data": {
      "text/plain": [
       "numpy.ndarray"
      ]
     },
     "execution_count": 32,
     "metadata": {},
     "output_type": "execute_result"
    }
   ],
   "source": [
    "type(test_sample)"
   ]
  },
  {
   "cell_type": "code",
   "execution_count": 33,
   "id": "96f31c7e",
   "metadata": {},
   "outputs": [
    {
     "data": {
      "text/plain": [
       "1"
      ]
     },
     "execution_count": 33,
     "metadata": {},
     "output_type": "execute_result"
    }
   ],
   "source": [
    "test_sample.ndim"
   ]
  },
  {
   "cell_type": "code",
   "execution_count": 35,
   "id": "bf64a7e5",
   "metadata": {},
   "outputs": [
    {
     "name": "stdout",
     "output_type": "stream",
     "text": [
      "(1, 18)\n",
      "2\n"
     ]
    }
   ],
   "source": [
    "test_sample=test_sample.reshape(1,18)\n",
    "print(test_sample.shape)\n",
    "print(test_sample.ndim)"
   ]
  },
  {
   "cell_type": "code",
   "execution_count": 36,
   "id": "26b1871d",
   "metadata": {},
   "outputs": [],
   "source": [
    "y_predicted = model.predict(test_sample)"
   ]
  },
  {
   "cell_type": "code",
   "execution_count": 37,
   "id": "0ddd7661",
   "metadata": {},
   "outputs": [
    {
     "data": {
      "text/plain": [
       "array([681.06260495])"
      ]
     },
     "execution_count": 37,
     "metadata": {},
     "output_type": "execute_result"
    }
   ],
   "source": [
    "y_predicted"
   ]
  },
  {
   "cell_type": "code",
   "execution_count": null,
   "id": "7491f352",
   "metadata": {},
   "outputs": [],
   "source": []
  }
 ],
 "metadata": {
  "kernelspec": {
   "display_name": "Python 3 (ipykernel)",
   "language": "python",
   "name": "python3"
  },
  "language_info": {
   "codemirror_mode": {
    "name": "ipython",
    "version": 3
   },
   "file_extension": ".py",
   "mimetype": "text/x-python",
   "name": "python",
   "nbconvert_exporter": "python",
   "pygments_lexer": "ipython3",
   "version": "3.9.7"
  }
 },
 "nbformat": 4,
 "nbformat_minor": 5
}
