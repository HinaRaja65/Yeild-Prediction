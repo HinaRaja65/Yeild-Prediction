{
 "cells": [
  {
   "cell_type": "markdown",
   "id": "d69c975b",
   "metadata": {},
   "source": [
    "# Linear Regression Model\n",
    "\n",
    "%%%%%%%%%%%%%%%%%%%%%%%%%%%%%%%%%%%%%%%%%%%%%%%%%%%%%%%%%%%%%%%%%%%%%%%%%%%%%%\n",
    "This code is the implementation of linear regression model for yield \n",
    "predication.\n",
    "\n",
    "We are using linear regression model which is imported from Sklearn library.\n",
    "\n",
    "Data is comprised of 234 samples. Each training sample is consist of 16 input\n",
    "features(x1,x2,x3,....) and corresponding output(y) i.e yield.\n",
    "\n",
    "x1= Flied \n",
    "x2= Seed\n",
    "x3= max temp\n",
    "x4= min temp\n",
    "x5= Wind speed\n",
    "x6= humidity\n",
    "x7= Precipitation\n",
    "x8= Rain fall\n",
    "x9= N\n",
    "x10=P\n",
    "x11=K\n",
    "x12=NDVI\n",
    "x13=NDMI\n",
    "x14=MSAVI\n",
    "x15=NRDE\n",
    "x16= Soil fertility\n",
    "\n",
    "y= Yield \n",
    "\n",
    "linear model\n",
    "h=theta0+ theta1*x1+ theta2*x2+ theta3*x3 .......theta16*x16\n",
    "\n",
    "these theta's are trained during training.\n",
    "\n",
    "%%%%%%%%%%%%%%%%%%%%%%%%%%%%%%%%%%%%%%%%%%%%%%%%%%%%%%%%%%%%%%%%%%%%%%%%%%%%%%%\n",
    "\n",
    "1. Importing required packages.\n",
    "2. Read the data/load the data.\n",
    "3. Data Cleaning.\n",
    "4. Visualizing the data, how data looks like.\n",
    "5. Spliting dataset into training and testing data.\n",
    "6. Imported Linear regression model is Trained using training data\n",
    "7. Predication is performed by trained model using testing data\n",
    "8. Evaluate the Model: Measure the Mean Sqaure Error\n",
    "9. Prediction for the new sample\n",
    "\n"
   ]
  },
  {
   "cell_type": "markdown",
   "id": "f6124089",
   "metadata": {},
   "source": [
    "# Importing required packages"
   ]
  },
  {
   "cell_type": "code",
   "execution_count": 1,
   "id": "23a68371",
   "metadata": {},
   "outputs": [],
   "source": [
    "import numpy as np\n",
    "import pandas as pd\n",
    "import matplotlib.pyplot as plt\n",
    "from sklearn import datasets, linear_model\n",
    "from sklearn.metrics import  mean_squared_error\n",
    "from sklearn.metrics import  mean_absolute_error\n"
   ]
  },
  {
   "cell_type": "markdown",
   "id": "4ff82a07",
   "metadata": {},
   "source": [
    "#  Read the data/load the data"
   ]
  },
  {
   "cell_type": "code",
   "execution_count": 2,
   "id": "216f95bb",
   "metadata": {},
   "outputs": [],
   "source": [
    "# we are using pandas libaray for reading the file\n",
    "# We are reading ecxel file and path should be where you ecxel file is located.\n",
    "# place \"r\" before the path string to address special character,such as '\\'.\n",
    "# Don't forget to put the file name at the end of the path + '.xlsx'\n",
    "\n",
    "data=pd.read_excel(r\"C:\\python\\Yield Predicition\\plain 1.xlsx\")\n"
   ]
  },
  {
   "cell_type": "code",
   "execution_count": 3,
   "id": "c6076485",
   "metadata": {},
   "outputs": [
    {
     "data": {
      "text/html": [
       "<div>\n",
       "<style scoped>\n",
       "    .dataframe tbody tr th:only-of-type {\n",
       "        vertical-align: middle;\n",
       "    }\n",
       "\n",
       "    .dataframe tbody tr th {\n",
       "        vertical-align: top;\n",
       "    }\n",
       "\n",
       "    .dataframe thead th {\n",
       "        text-align: right;\n",
       "    }\n",
       "</style>\n",
       "<table border=\"1\" class=\"dataframe\">\n",
       "  <thead>\n",
       "    <tr style=\"text-align: right;\">\n",
       "      <th></th>\n",
       "      <th>Field #</th>\n",
       "      <th>Seed</th>\n",
       "      <th>Month</th>\n",
       "      <th>Max t°C</th>\n",
       "      <th>Min t°C</th>\n",
       "      <th>Wind Speed (m/s)</th>\n",
       "      <th>Humidity (%)</th>\n",
       "      <th>Precipitation (mm)</th>\n",
       "      <th>Rainfall</th>\n",
       "      <th>N</th>\n",
       "      <th>P</th>\n",
       "      <th>K</th>\n",
       "      <th>NDVI</th>\n",
       "      <th>NDMI</th>\n",
       "      <th>MSAVI</th>\n",
       "      <th>NRDE</th>\n",
       "      <th>Soil Fertility</th>\n",
       "      <th>Yield</th>\n",
       "    </tr>\n",
       "  </thead>\n",
       "  <tbody>\n",
       "    <tr>\n",
       "      <th>0</th>\n",
       "      <td>1</td>\n",
       "      <td>1</td>\n",
       "      <td>2019-02-01</td>\n",
       "      <td>21.2</td>\n",
       "      <td>10.2</td>\n",
       "      <td>2.0</td>\n",
       "      <td>73.6</td>\n",
       "      <td>0.0</td>\n",
       "      <td>40.7</td>\n",
       "      <td>103</td>\n",
       "      <td>57</td>\n",
       "      <td>50</td>\n",
       "      <td>0.33</td>\n",
       "      <td>0.23</td>\n",
       "      <td>0.13</td>\n",
       "      <td>-0.03</td>\n",
       "      <td>2</td>\n",
       "      <td>818</td>\n",
       "    </tr>\n",
       "    <tr>\n",
       "      <th>1</th>\n",
       "      <td>1</td>\n",
       "      <td>1</td>\n",
       "      <td>2019-03-01</td>\n",
       "      <td>28.6</td>\n",
       "      <td>14.4</td>\n",
       "      <td>2.3</td>\n",
       "      <td>63.4</td>\n",
       "      <td>0.0</td>\n",
       "      <td>29.1</td>\n",
       "      <td>103</td>\n",
       "      <td>57</td>\n",
       "      <td>50</td>\n",
       "      <td>0.22</td>\n",
       "      <td>0.13</td>\n",
       "      <td>0.08</td>\n",
       "      <td>-0.10</td>\n",
       "      <td>2</td>\n",
       "      <td>818</td>\n",
       "    </tr>\n",
       "    <tr>\n",
       "      <th>2</th>\n",
       "      <td>1</td>\n",
       "      <td>1</td>\n",
       "      <td>2019-04-01</td>\n",
       "      <td>34.3</td>\n",
       "      <td>20.5</td>\n",
       "      <td>1.9</td>\n",
       "      <td>51.8</td>\n",
       "      <td>2.4</td>\n",
       "      <td>53.6</td>\n",
       "      <td>103</td>\n",
       "      <td>57</td>\n",
       "      <td>50</td>\n",
       "      <td>0.21</td>\n",
       "      <td>0.14</td>\n",
       "      <td>0.11</td>\n",
       "      <td>-0.07</td>\n",
       "      <td>2</td>\n",
       "      <td>818</td>\n",
       "    </tr>\n",
       "    <tr>\n",
       "      <th>3</th>\n",
       "      <td>1</td>\n",
       "      <td>1</td>\n",
       "      <td>2019-05-01</td>\n",
       "      <td>31.7</td>\n",
       "      <td>21.5</td>\n",
       "      <td>3.7</td>\n",
       "      <td>57.5</td>\n",
       "      <td>1.6</td>\n",
       "      <td>48.9</td>\n",
       "      <td>103</td>\n",
       "      <td>57</td>\n",
       "      <td>50</td>\n",
       "      <td>0.29</td>\n",
       "      <td>0.19</td>\n",
       "      <td>0.14</td>\n",
       "      <td>-0.01</td>\n",
       "      <td>2</td>\n",
       "      <td>818</td>\n",
       "    </tr>\n",
       "    <tr>\n",
       "      <th>4</th>\n",
       "      <td>1</td>\n",
       "      <td>1</td>\n",
       "      <td>2019-06-01</td>\n",
       "      <td>42.9</td>\n",
       "      <td>28.8</td>\n",
       "      <td>3.2</td>\n",
       "      <td>39.6</td>\n",
       "      <td>1.4</td>\n",
       "      <td>28.9</td>\n",
       "      <td>103</td>\n",
       "      <td>57</td>\n",
       "      <td>50</td>\n",
       "      <td>0.29</td>\n",
       "      <td>0.20</td>\n",
       "      <td>0.14</td>\n",
       "      <td>0.00</td>\n",
       "      <td>2</td>\n",
       "      <td>818</td>\n",
       "    </tr>\n",
       "  </tbody>\n",
       "</table>\n",
       "</div>"
      ],
      "text/plain": [
       "   Field #  Seed       Month  Max t°C  Min t°C  Wind Speed (m/s)  \\\n",
       "0        1      1 2019-02-01     21.2     10.2               2.0   \n",
       "1        1      1 2019-03-01     28.6     14.4               2.3   \n",
       "2        1      1 2019-04-01     34.3     20.5               1.9   \n",
       "3        1      1 2019-05-01     31.7     21.5               3.7   \n",
       "4        1      1 2019-06-01     42.9     28.8               3.2   \n",
       "\n",
       "   Humidity (%)  Precipitation (mm)  Rainfall    N   P   K  NDVI  NDMI  MSAVI  \\\n",
       "0          73.6                 0.0      40.7  103  57  50  0.33  0.23   0.13   \n",
       "1          63.4                 0.0      29.1  103  57  50  0.22  0.13   0.08   \n",
       "2          51.8                 2.4      53.6  103  57  50  0.21  0.14   0.11   \n",
       "3          57.5                 1.6      48.9  103  57  50  0.29  0.19   0.14   \n",
       "4          39.6                 1.4      28.9  103  57  50  0.29  0.20   0.14   \n",
       "\n",
       "   NRDE  Soil Fertility  Yield  \n",
       "0 -0.03               2    818  \n",
       "1 -0.10               2    818  \n",
       "2 -0.07               2    818  \n",
       "3 -0.01               2    818  \n",
       "4  0.00               2    818  "
      ]
     },
     "execution_count": 3,
     "metadata": {},
     "output_type": "execute_result"
    }
   ],
   "source": [
    "#Showing the first five entries of data\n",
    "data.head()"
   ]
  },
  {
   "cell_type": "markdown",
   "id": "07d95e32",
   "metadata": {},
   "source": [
    "# Data Cleaning"
   ]
  },
  {
   "cell_type": "code",
   "execution_count": 4,
   "id": "de0ac00f",
   "metadata": {},
   "outputs": [
    {
     "data": {
      "text/html": [
       "<div>\n",
       "<style scoped>\n",
       "    .dataframe tbody tr th:only-of-type {\n",
       "        vertical-align: middle;\n",
       "    }\n",
       "\n",
       "    .dataframe tbody tr th {\n",
       "        vertical-align: top;\n",
       "    }\n",
       "\n",
       "    .dataframe thead th {\n",
       "        text-align: right;\n",
       "    }\n",
       "</style>\n",
       "<table border=\"1\" class=\"dataframe\">\n",
       "  <thead>\n",
       "    <tr style=\"text-align: right;\">\n",
       "      <th></th>\n",
       "      <th>Field #</th>\n",
       "      <th>Seed</th>\n",
       "      <th>Max t°C</th>\n",
       "      <th>Min t°C</th>\n",
       "      <th>Wind Speed (m/s)</th>\n",
       "      <th>Humidity (%)</th>\n",
       "      <th>Precipitation (mm)</th>\n",
       "      <th>Rainfall</th>\n",
       "      <th>N</th>\n",
       "      <th>P</th>\n",
       "      <th>K</th>\n",
       "      <th>NDVI</th>\n",
       "      <th>NDMI</th>\n",
       "      <th>MSAVI</th>\n",
       "      <th>NRDE</th>\n",
       "      <th>Soil Fertility</th>\n",
       "      <th>Yield</th>\n",
       "    </tr>\n",
       "  </thead>\n",
       "  <tbody>\n",
       "    <tr>\n",
       "      <th>0</th>\n",
       "      <td>1</td>\n",
       "      <td>1</td>\n",
       "      <td>21.2</td>\n",
       "      <td>10.2</td>\n",
       "      <td>2.0</td>\n",
       "      <td>73.6</td>\n",
       "      <td>0.0</td>\n",
       "      <td>40.7</td>\n",
       "      <td>103</td>\n",
       "      <td>57</td>\n",
       "      <td>50</td>\n",
       "      <td>0.33</td>\n",
       "      <td>0.23</td>\n",
       "      <td>0.13</td>\n",
       "      <td>-0.03</td>\n",
       "      <td>2</td>\n",
       "      <td>818</td>\n",
       "    </tr>\n",
       "    <tr>\n",
       "      <th>1</th>\n",
       "      <td>1</td>\n",
       "      <td>1</td>\n",
       "      <td>28.6</td>\n",
       "      <td>14.4</td>\n",
       "      <td>2.3</td>\n",
       "      <td>63.4</td>\n",
       "      <td>0.0</td>\n",
       "      <td>29.1</td>\n",
       "      <td>103</td>\n",
       "      <td>57</td>\n",
       "      <td>50</td>\n",
       "      <td>0.22</td>\n",
       "      <td>0.13</td>\n",
       "      <td>0.08</td>\n",
       "      <td>-0.10</td>\n",
       "      <td>2</td>\n",
       "      <td>818</td>\n",
       "    </tr>\n",
       "    <tr>\n",
       "      <th>2</th>\n",
       "      <td>1</td>\n",
       "      <td>1</td>\n",
       "      <td>34.3</td>\n",
       "      <td>20.5</td>\n",
       "      <td>1.9</td>\n",
       "      <td>51.8</td>\n",
       "      <td>2.4</td>\n",
       "      <td>53.6</td>\n",
       "      <td>103</td>\n",
       "      <td>57</td>\n",
       "      <td>50</td>\n",
       "      <td>0.21</td>\n",
       "      <td>0.14</td>\n",
       "      <td>0.11</td>\n",
       "      <td>-0.07</td>\n",
       "      <td>2</td>\n",
       "      <td>818</td>\n",
       "    </tr>\n",
       "    <tr>\n",
       "      <th>3</th>\n",
       "      <td>1</td>\n",
       "      <td>1</td>\n",
       "      <td>31.7</td>\n",
       "      <td>21.5</td>\n",
       "      <td>3.7</td>\n",
       "      <td>57.5</td>\n",
       "      <td>1.6</td>\n",
       "      <td>48.9</td>\n",
       "      <td>103</td>\n",
       "      <td>57</td>\n",
       "      <td>50</td>\n",
       "      <td>0.29</td>\n",
       "      <td>0.19</td>\n",
       "      <td>0.14</td>\n",
       "      <td>-0.01</td>\n",
       "      <td>2</td>\n",
       "      <td>818</td>\n",
       "    </tr>\n",
       "    <tr>\n",
       "      <th>4</th>\n",
       "      <td>1</td>\n",
       "      <td>1</td>\n",
       "      <td>42.9</td>\n",
       "      <td>28.8</td>\n",
       "      <td>3.2</td>\n",
       "      <td>39.6</td>\n",
       "      <td>1.4</td>\n",
       "      <td>28.9</td>\n",
       "      <td>103</td>\n",
       "      <td>57</td>\n",
       "      <td>50</td>\n",
       "      <td>0.29</td>\n",
       "      <td>0.20</td>\n",
       "      <td>0.14</td>\n",
       "      <td>0.00</td>\n",
       "      <td>2</td>\n",
       "      <td>818</td>\n",
       "    </tr>\n",
       "  </tbody>\n",
       "</table>\n",
       "</div>"
      ],
      "text/plain": [
       "   Field #  Seed   Max t°C  Min t°C  Wind Speed (m/s)  Humidity (%)  \\\n",
       "0        1      1     21.2     10.2               2.0          73.6   \n",
       "1        1      1     28.6     14.4               2.3          63.4   \n",
       "2        1      1     34.3     20.5               1.9          51.8   \n",
       "3        1      1     31.7     21.5               3.7          57.5   \n",
       "4        1      1     42.9     28.8               3.2          39.6   \n",
       "\n",
       "   Precipitation (mm)  Rainfall    N   P   K  NDVI  NDMI  MSAVI  NRDE  \\\n",
       "0                 0.0      40.7  103  57  50  0.33  0.23   0.13 -0.03   \n",
       "1                 0.0      29.1  103  57  50  0.22  0.13   0.08 -0.10   \n",
       "2                 2.4      53.6  103  57  50  0.21  0.14   0.11 -0.07   \n",
       "3                 1.6      48.9  103  57  50  0.29  0.19   0.14 -0.01   \n",
       "4                 1.4      28.9  103  57  50  0.29  0.20   0.14  0.00   \n",
       "\n",
       "   Soil Fertility  Yield  \n",
       "0               2    818  \n",
       "1               2    818  \n",
       "2               2    818  \n",
       "3               2    818  \n",
       "4               2    818  "
      ]
     },
     "execution_count": 4,
     "metadata": {},
     "output_type": "execute_result"
    }
   ],
   "source": [
    "# As there some extra columns so we need to perform data cleaning\n",
    "\n",
    "data.drop(columns='Month', inplace=True)\n",
    "data.head()"
   ]
  },
  {
   "cell_type": "markdown",
   "id": "10c0ba80",
   "metadata": {},
   "source": [
    "# Visualizing the data, how data looks like."
   ]
  },
  {
   "cell_type": "code",
   "execution_count": 5,
   "id": "e244e587",
   "metadata": {},
   "outputs": [
    {
     "name": "stdout",
     "output_type": "stream",
     "text": [
      "<class 'pandas.core.frame.DataFrame'>\n",
      "RangeIndex: 234 entries, 0 to 233\n",
      "Data columns (total 17 columns):\n",
      " #   Column              Non-Null Count  Dtype  \n",
      "---  ------              --------------  -----  \n",
      " 0   Field #             234 non-null    int64  \n",
      " 1   Seed                234 non-null    int64  \n",
      " 2   Max t°C             234 non-null    float64\n",
      " 3   Min t°C             234 non-null    float64\n",
      " 4   Wind Speed (m/s)    234 non-null    float64\n",
      " 5   Humidity (%)        234 non-null    float64\n",
      " 6   Precipitation (mm)  234 non-null    float64\n",
      " 7   Rainfall            234 non-null    float64\n",
      " 8   N                   234 non-null    int64  \n",
      " 9   P                   234 non-null    int64  \n",
      " 10  K                   234 non-null    int64  \n",
      " 11  NDVI                234 non-null    float64\n",
      " 12  NDMI                234 non-null    float64\n",
      " 13  MSAVI               234 non-null    float64\n",
      " 14  NRDE                234 non-null    float64\n",
      " 15  Soil Fertility      234 non-null    int64  \n",
      " 16  Yield               234 non-null    int64  \n",
      "dtypes: float64(10), int64(7)\n",
      "memory usage: 31.2 KB\n"
     ]
    }
   ],
   "source": [
    "# Information about your data, how many entries and which type of data is present in dataframe\n",
    "data.info()"
   ]
  },
  {
   "cell_type": "code",
   "execution_count": 6,
   "id": "2fef8d6a",
   "metadata": {},
   "outputs": [
    {
     "data": {
      "text/plain": [
       "(234, 17)"
      ]
     },
     "execution_count": 6,
     "metadata": {},
     "output_type": "execute_result"
    }
   ],
   "source": [
    "#tells the shape of dataframe\n",
    "data.shape"
   ]
  },
  {
   "cell_type": "code",
   "execution_count": 7,
   "id": "db0a57d4",
   "metadata": {},
   "outputs": [
    {
     "data": {
      "text/plain": [
       "<AxesSubplot:xlabel='Rainfall', ylabel='Yield'>"
      ]
     },
     "execution_count": 7,
     "metadata": {},
     "output_type": "execute_result"
    },
    {
     "data": {
      "image/png": "[encoded data removed]",
      "text/plain": [
       "<Figure size 432x432 with 1 Axes>"
      ]
     },
     "metadata": {
      "needs_background": "light"
     },
     "output_type": "display_data"
    }
   ],
   "source": [
    "data.plot(kind='scatter', x='Rainfall', y='Yield', figsize=(6,6))"
   ]
  },
  {
   "cell_type": "code",
   "execution_count": 8,
   "id": "73b87300",
   "metadata": {},
   "outputs": [
    {
     "data": {
      "text/plain": [
       "<AxesSubplot:xlabel='Precipitation (mm)', ylabel='Yield'>"
      ]
     },
     "execution_count": 8,
     "metadata": {},
     "output_type": "execute_result"
    },
    {
     "data": {
      "image/png": "[encoded data removed]",
      "text/plain": [
       "<Figure size 432x432 with 1 Axes>"
      ]
     },
     "metadata": {
      "needs_background": "light"
     },
     "output_type": "display_data"
    }
   ],
   "source": [
    "data.plot(kind='scatter', x='Precipitation (mm)', y='Yield', figsize=(6,6))"
   ]
  },
  {
   "cell_type": "code",
   "execution_count": 9,
   "id": "bb40f824",
   "metadata": {},
   "outputs": [
    {
     "data": {
      "text/plain": [
       "<AxesSubplot:xlabel='Humidity (%)', ylabel='Yield'>"
      ]
     },
     "execution_count": 9,
     "metadata": {},
     "output_type": "execute_result"
    },
    {
     "data": {
      "image/png": "[encoded data removed]",
      "text/plain": [
       "<Figure size 432x432 with 1 Axes>"
      ]
     },
     "metadata": {
      "needs_background": "light"
     },
     "output_type": "display_data"
    }
   ],
   "source": [
    "data.plot(kind='scatter', x='Humidity (%)', y='Yield', figsize=(6,6))"
   ]
  },
  {
   "cell_type": "markdown",
   "id": "3646dc8b",
   "metadata": {},
   "source": [
    "# Spliting dataset into training and testing data\n",
    "\n",
    "Total of 60 samples we are taking first 190 samples as training data and last 44 samples as testing data"
   ]
  },
  {
   "cell_type": "code",
   "execution_count": 10,
   "id": "eb0066ac",
   "metadata": {},
   "outputs": [
    {
     "data": {
      "text/html": [
       "<div>\n",
       "<style scoped>\n",
       "    .dataframe tbody tr th:only-of-type {\n",
       "        vertical-align: middle;\n",
       "    }\n",
       "\n",
       "    .dataframe tbody tr th {\n",
       "        vertical-align: top;\n",
       "    }\n",
       "\n",
       "    .dataframe thead th {\n",
       "        text-align: right;\n",
       "    }\n",
       "</style>\n",
       "<table border=\"1\" class=\"dataframe\">\n",
       "  <thead>\n",
       "    <tr style=\"text-align: right;\">\n",
       "      <th></th>\n",
       "      <th>Field #</th>\n",
       "      <th>Seed</th>\n",
       "      <th>Max t°C</th>\n",
       "      <th>Min t°C</th>\n",
       "      <th>Wind Speed (m/s)</th>\n",
       "      <th>Humidity (%)</th>\n",
       "      <th>Precipitation (mm)</th>\n",
       "      <th>Rainfall</th>\n",
       "      <th>N</th>\n",
       "      <th>P</th>\n",
       "      <th>K</th>\n",
       "      <th>NDVI</th>\n",
       "      <th>NDMI</th>\n",
       "      <th>MSAVI</th>\n",
       "      <th>NRDE</th>\n",
       "    </tr>\n",
       "  </thead>\n",
       "  <tbody>\n",
       "    <tr>\n",
       "      <th>0</th>\n",
       "      <td>1</td>\n",
       "      <td>1</td>\n",
       "      <td>21.2</td>\n",
       "      <td>10.2</td>\n",
       "      <td>2.0</td>\n",
       "      <td>73.6</td>\n",
       "      <td>0.0</td>\n",
       "      <td>40.7</td>\n",
       "      <td>103</td>\n",
       "      <td>57</td>\n",
       "      <td>50</td>\n",
       "      <td>0.33</td>\n",
       "      <td>0.23</td>\n",
       "      <td>0.13</td>\n",
       "      <td>-0.03</td>\n",
       "    </tr>\n",
       "    <tr>\n",
       "      <th>1</th>\n",
       "      <td>1</td>\n",
       "      <td>1</td>\n",
       "      <td>28.6</td>\n",
       "      <td>14.4</td>\n",
       "      <td>2.3</td>\n",
       "      <td>63.4</td>\n",
       "      <td>0.0</td>\n",
       "      <td>29.1</td>\n",
       "      <td>103</td>\n",
       "      <td>57</td>\n",
       "      <td>50</td>\n",
       "      <td>0.22</td>\n",
       "      <td>0.13</td>\n",
       "      <td>0.08</td>\n",
       "      <td>-0.10</td>\n",
       "    </tr>\n",
       "    <tr>\n",
       "      <th>2</th>\n",
       "      <td>1</td>\n",
       "      <td>1</td>\n",
       "      <td>34.3</td>\n",
       "      <td>20.5</td>\n",
       "      <td>1.9</td>\n",
       "      <td>51.8</td>\n",
       "      <td>2.4</td>\n",
       "      <td>53.6</td>\n",
       "      <td>103</td>\n",
       "      <td>57</td>\n",
       "      <td>50</td>\n",
       "      <td>0.21</td>\n",
       "      <td>0.14</td>\n",
       "      <td>0.11</td>\n",
       "      <td>-0.07</td>\n",
       "    </tr>\n",
       "    <tr>\n",
       "      <th>3</th>\n",
       "      <td>1</td>\n",
       "      <td>1</td>\n",
       "      <td>31.7</td>\n",
       "      <td>21.5</td>\n",
       "      <td>3.7</td>\n",
       "      <td>57.5</td>\n",
       "      <td>1.6</td>\n",
       "      <td>48.9</td>\n",
       "      <td>103</td>\n",
       "      <td>57</td>\n",
       "      <td>50</td>\n",
       "      <td>0.29</td>\n",
       "      <td>0.19</td>\n",
       "      <td>0.14</td>\n",
       "      <td>-0.01</td>\n",
       "    </tr>\n",
       "    <tr>\n",
       "      <th>4</th>\n",
       "      <td>1</td>\n",
       "      <td>1</td>\n",
       "      <td>42.9</td>\n",
       "      <td>28.8</td>\n",
       "      <td>3.2</td>\n",
       "      <td>39.6</td>\n",
       "      <td>1.4</td>\n",
       "      <td>28.9</td>\n",
       "      <td>103</td>\n",
       "      <td>57</td>\n",
       "      <td>50</td>\n",
       "      <td>0.29</td>\n",
       "      <td>0.20</td>\n",
       "      <td>0.14</td>\n",
       "      <td>0.00</td>\n",
       "    </tr>\n",
       "  </tbody>\n",
       "</table>\n",
       "</div>"
      ],
      "text/plain": [
       "   Field #  Seed   Max t°C  Min t°C  Wind Speed (m/s)  Humidity (%)  \\\n",
       "0        1      1     21.2     10.2               2.0          73.6   \n",
       "1        1      1     28.6     14.4               2.3          63.4   \n",
       "2        1      1     34.3     20.5               1.9          51.8   \n",
       "3        1      1     31.7     21.5               3.7          57.5   \n",
       "4        1      1     42.9     28.8               3.2          39.6   \n",
       "\n",
       "   Precipitation (mm)  Rainfall    N   P   K  NDVI  NDMI  MSAVI  NRDE  \n",
       "0                 0.0      40.7  103  57  50  0.33  0.23   0.13 -0.03  \n",
       "1                 0.0      29.1  103  57  50  0.22  0.13   0.08 -0.10  \n",
       "2                 2.4      53.6  103  57  50  0.21  0.14   0.11 -0.07  \n",
       "3                 1.6      48.9  103  57  50  0.29  0.19   0.14 -0.01  \n",
       "4                 1.4      28.9  103  57  50  0.29  0.20   0.14  0.00  "
      ]
     },
     "execution_count": 10,
     "metadata": {},
     "output_type": "execute_result"
    }
   ],
   "source": [
    "#Training data\n",
    "training_data=data.iloc[:190, 0:15]\n",
    "training_data.head()"
   ]
  },
  {
   "cell_type": "code",
   "execution_count": 11,
   "id": "ab33be7e",
   "metadata": {},
   "outputs": [
    {
     "data": {
      "text/plain": [
       "(190, 15)"
      ]
     },
     "execution_count": 11,
     "metadata": {},
     "output_type": "execute_result"
    }
   ],
   "source": [
    "training_data.shape"
   ]
  },
  {
   "cell_type": "code",
   "execution_count": 12,
   "id": "55ac1b3a",
   "metadata": {},
   "outputs": [
    {
     "data": {
      "text/html": [
       "<div>\n",
       "<style scoped>\n",
       "    .dataframe tbody tr th:only-of-type {\n",
       "        vertical-align: middle;\n",
       "    }\n",
       "\n",
       "    .dataframe tbody tr th {\n",
       "        vertical-align: top;\n",
       "    }\n",
       "\n",
       "    .dataframe thead th {\n",
       "        text-align: right;\n",
       "    }\n",
       "</style>\n",
       "<table border=\"1\" class=\"dataframe\">\n",
       "  <thead>\n",
       "    <tr style=\"text-align: right;\">\n",
       "      <th></th>\n",
       "      <th>Field #</th>\n",
       "      <th>Seed</th>\n",
       "      <th>Max t°C</th>\n",
       "      <th>Min t°C</th>\n",
       "      <th>Wind Speed (m/s)</th>\n",
       "      <th>Humidity (%)</th>\n",
       "      <th>Precipitation (mm)</th>\n",
       "      <th>Rainfall</th>\n",
       "      <th>N</th>\n",
       "      <th>P</th>\n",
       "      <th>K</th>\n",
       "      <th>NDVI</th>\n",
       "      <th>NDMI</th>\n",
       "      <th>MSAVI</th>\n",
       "      <th>NRDE</th>\n",
       "    </tr>\n",
       "  </thead>\n",
       "  <tbody>\n",
       "    <tr>\n",
       "      <th>count</th>\n",
       "      <td>190.000000</td>\n",
       "      <td>190.000000</td>\n",
       "      <td>190.000000</td>\n",
       "      <td>190.000000</td>\n",
       "      <td>190.000000</td>\n",
       "      <td>190.000000</td>\n",
       "      <td>190.000000</td>\n",
       "      <td>190.000000</td>\n",
       "      <td>190.000000</td>\n",
       "      <td>190.000000</td>\n",
       "      <td>190.000000</td>\n",
       "      <td>190.000000</td>\n",
       "      <td>190.000000</td>\n",
       "      <td>190.000000</td>\n",
       "      <td>190.000000</td>\n",
       "    </tr>\n",
       "    <tr>\n",
       "      <th>mean</th>\n",
       "      <td>4.057895</td>\n",
       "      <td>1.742105</td>\n",
       "      <td>31.144211</td>\n",
       "      <td>18.610526</td>\n",
       "      <td>2.105263</td>\n",
       "      <td>61.337895</td>\n",
       "      <td>2.404211</td>\n",
       "      <td>30.013895</td>\n",
       "      <td>93.084211</td>\n",
       "      <td>45.810526</td>\n",
       "      <td>40.552632</td>\n",
       "      <td>0.455211</td>\n",
       "      <td>0.307474</td>\n",
       "      <td>0.252105</td>\n",
       "      <td>0.080053</td>\n",
       "    </tr>\n",
       "    <tr>\n",
       "      <th>std</th>\n",
       "      <td>2.034573</td>\n",
       "      <td>0.438632</td>\n",
       "      <td>7.164599</td>\n",
       "      <td>7.613348</td>\n",
       "      <td>1.154734</td>\n",
       "      <td>9.089452</td>\n",
       "      <td>6.951121</td>\n",
       "      <td>25.657109</td>\n",
       "      <td>22.117131</td>\n",
       "      <td>16.931105</td>\n",
       "      <td>14.636147</td>\n",
       "      <td>0.172454</td>\n",
       "      <td>0.131857</td>\n",
       "      <td>0.128540</td>\n",
       "      <td>0.120828</td>\n",
       "    </tr>\n",
       "    <tr>\n",
       "      <th>min</th>\n",
       "      <td>1.000000</td>\n",
       "      <td>1.000000</td>\n",
       "      <td>18.500000</td>\n",
       "      <td>5.000000</td>\n",
       "      <td>0.300000</td>\n",
       "      <td>32.300000</td>\n",
       "      <td>0.000000</td>\n",
       "      <td>0.000000</td>\n",
       "      <td>51.000000</td>\n",
       "      <td>23.000000</td>\n",
       "      <td>0.000000</td>\n",
       "      <td>0.140000</td>\n",
       "      <td>0.090000</td>\n",
       "      <td>0.010000</td>\n",
       "      <td>-0.210000</td>\n",
       "    </tr>\n",
       "    <tr>\n",
       "      <th>25%</th>\n",
       "      <td>2.000000</td>\n",
       "      <td>1.000000</td>\n",
       "      <td>26.200000</td>\n",
       "      <td>10.500000</td>\n",
       "      <td>1.100000</td>\n",
       "      <td>56.400000</td>\n",
       "      <td>0.000000</td>\n",
       "      <td>7.300000</td>\n",
       "      <td>69.500000</td>\n",
       "      <td>24.250000</td>\n",
       "      <td>25.000000</td>\n",
       "      <td>0.300000</td>\n",
       "      <td>0.190000</td>\n",
       "      <td>0.140000</td>\n",
       "      <td>-0.010000</td>\n",
       "    </tr>\n",
       "    <tr>\n",
       "      <th>50%</th>\n",
       "      <td>4.000000</td>\n",
       "      <td>2.000000</td>\n",
       "      <td>31.900000</td>\n",
       "      <td>19.400000</td>\n",
       "      <td>1.900000</td>\n",
       "      <td>63.100000</td>\n",
       "      <td>0.000000</td>\n",
       "      <td>28.900000</td>\n",
       "      <td>103.000000</td>\n",
       "      <td>52.000000</td>\n",
       "      <td>50.000000</td>\n",
       "      <td>0.455000</td>\n",
       "      <td>0.295000</td>\n",
       "      <td>0.250000</td>\n",
       "      <td>0.090000</td>\n",
       "    </tr>\n",
       "    <tr>\n",
       "      <th>75%</th>\n",
       "      <td>6.000000</td>\n",
       "      <td>2.000000</td>\n",
       "      <td>36.900000</td>\n",
       "      <td>26.500000</td>\n",
       "      <td>2.600000</td>\n",
       "      <td>67.600000</td>\n",
       "      <td>1.200000</td>\n",
       "      <td>48.300000</td>\n",
       "      <td>110.000000</td>\n",
       "      <td>57.000000</td>\n",
       "      <td>50.000000</td>\n",
       "      <td>0.590000</td>\n",
       "      <td>0.417500</td>\n",
       "      <td>0.340000</td>\n",
       "      <td>0.167500</td>\n",
       "    </tr>\n",
       "    <tr>\n",
       "      <th>max</th>\n",
       "      <td>8.000000</td>\n",
       "      <td>2.000000</td>\n",
       "      <td>44.900000</td>\n",
       "      <td>30.900000</td>\n",
       "      <td>5.600000</td>\n",
       "      <td>78.700000</td>\n",
       "      <td>34.400000</td>\n",
       "      <td>107.200000</td>\n",
       "      <td>120.000000</td>\n",
       "      <td>69.000000</td>\n",
       "      <td>50.000000</td>\n",
       "      <td>0.810000</td>\n",
       "      <td>0.630000</td>\n",
       "      <td>0.530000</td>\n",
       "      <td>0.350000</td>\n",
       "    </tr>\n",
       "  </tbody>\n",
       "</table>\n",
       "</div>"
      ],
      "text/plain": [
       "          Field #       Seed      Max t°C     Min t°C  Wind Speed (m/s)  \\\n",
       "count  190.000000  190.000000  190.000000  190.000000        190.000000   \n",
       "mean     4.057895    1.742105   31.144211   18.610526          2.105263   \n",
       "std      2.034573    0.438632    7.164599    7.613348          1.154734   \n",
       "min      1.000000    1.000000   18.500000    5.000000          0.300000   \n",
       "25%      2.000000    1.000000   26.200000   10.500000          1.100000   \n",
       "50%      4.000000    2.000000   31.900000   19.400000          1.900000   \n",
       "75%      6.000000    2.000000   36.900000   26.500000          2.600000   \n",
       "max      8.000000    2.000000   44.900000   30.900000          5.600000   \n",
       "\n",
       "       Humidity (%)  Precipitation (mm)    Rainfall           N           P  \\\n",
       "count    190.000000          190.000000  190.000000  190.000000  190.000000   \n",
       "mean      61.337895            2.404211   30.013895   93.084211   45.810526   \n",
       "std        9.089452            6.951121   25.657109   22.117131   16.931105   \n",
       "min       32.300000            0.000000    0.000000   51.000000   23.000000   \n",
       "25%       56.400000            0.000000    7.300000   69.500000   24.250000   \n",
       "50%       63.100000            0.000000   28.900000  103.000000   52.000000   \n",
       "75%       67.600000            1.200000   48.300000  110.000000   57.000000   \n",
       "max       78.700000           34.400000  107.200000  120.000000   69.000000   \n",
       "\n",
       "                K        NDVI        NDMI       MSAVI        NRDE  \n",
       "count  190.000000  190.000000  190.000000  190.000000  190.000000  \n",
       "mean    40.552632    0.455211    0.307474    0.252105    0.080053  \n",
       "std     14.636147    0.172454    0.131857    0.128540    0.120828  \n",
       "min      0.000000    0.140000    0.090000    0.010000   -0.210000  \n",
       "25%     25.000000    0.300000    0.190000    0.140000   -0.010000  \n",
       "50%     50.000000    0.455000    0.295000    0.250000    0.090000  \n",
       "75%     50.000000    0.590000    0.417500    0.340000    0.167500  \n",
       "max     50.000000    0.810000    0.630000    0.530000    0.350000  "
      ]
     },
     "execution_count": 12,
     "metadata": {},
     "output_type": "execute_result"
    }
   ],
   "source": [
    "training_data.describe()"
   ]
  },
  {
   "cell_type": "code",
   "execution_count": 13,
   "id": "7324cd87",
   "metadata": {},
   "outputs": [
    {
     "data": {
      "text/plain": [
       "0    818\n",
       "1    818\n",
       "2    818\n",
       "3    818\n",
       "4    818\n",
       "Name: Yield, dtype: int64"
      ]
     },
     "execution_count": 13,
     "metadata": {},
     "output_type": "execute_result"
    }
   ],
   "source": [
    "training_label=data.iloc[:190, -1]\n",
    "training_label.head()"
   ]
  },
  {
   "cell_type": "code",
   "execution_count": 14,
   "id": "dcecbf75",
   "metadata": {},
   "outputs": [
    {
     "name": "stdout",
     "output_type": "stream",
     "text": [
      "shape: (190,)\n",
      "type: int64\n"
     ]
    }
   ],
   "source": [
    "print('shape:', training_label.shape)\n",
    "print('type:', training_label.dtype)"
   ]
  },
  {
   "cell_type": "code",
   "execution_count": 15,
   "id": "f42cbdab",
   "metadata": {},
   "outputs": [
    {
     "data": {
      "text/html": [
       "<div>\n",
       "<style scoped>\n",
       "    .dataframe tbody tr th:only-of-type {\n",
       "        vertical-align: middle;\n",
       "    }\n",
       "\n",
       "    .dataframe tbody tr th {\n",
       "        vertical-align: top;\n",
       "    }\n",
       "\n",
       "    .dataframe thead th {\n",
       "        text-align: right;\n",
       "    }\n",
       "</style>\n",
       "<table border=\"1\" class=\"dataframe\">\n",
       "  <thead>\n",
       "    <tr style=\"text-align: right;\">\n",
       "      <th></th>\n",
       "      <th>Field #</th>\n",
       "      <th>Seed</th>\n",
       "      <th>Max t°C</th>\n",
       "      <th>Min t°C</th>\n",
       "      <th>Wind Speed (m/s)</th>\n",
       "      <th>Humidity (%)</th>\n",
       "      <th>Precipitation (mm)</th>\n",
       "      <th>Rainfall</th>\n",
       "      <th>N</th>\n",
       "      <th>P</th>\n",
       "      <th>K</th>\n",
       "      <th>NDVI</th>\n",
       "      <th>NDMI</th>\n",
       "      <th>MSAVI</th>\n",
       "      <th>NRDE</th>\n",
       "    </tr>\n",
       "  </thead>\n",
       "  <tbody>\n",
       "    <tr>\n",
       "      <th>190</th>\n",
       "      <td>8</td>\n",
       "      <td>2</td>\n",
       "      <td>40.3</td>\n",
       "      <td>27.9</td>\n",
       "      <td>3.0</td>\n",
       "      <td>64.3</td>\n",
       "      <td>0.0</td>\n",
       "      <td>54.9</td>\n",
       "      <td>99</td>\n",
       "      <td>31</td>\n",
       "      <td>32</td>\n",
       "      <td>0.46</td>\n",
       "      <td>0.28</td>\n",
       "      <td>0.25</td>\n",
       "      <td>0.04</td>\n",
       "    </tr>\n",
       "    <tr>\n",
       "      <th>191</th>\n",
       "      <td>8</td>\n",
       "      <td>2</td>\n",
       "      <td>38.4</td>\n",
       "      <td>28.0</td>\n",
       "      <td>1.8</td>\n",
       "      <td>66.3</td>\n",
       "      <td>0.0</td>\n",
       "      <td>32.0</td>\n",
       "      <td>99</td>\n",
       "      <td>31</td>\n",
       "      <td>32</td>\n",
       "      <td>0.40</td>\n",
       "      <td>0.23</td>\n",
       "      <td>0.23</td>\n",
       "      <td>0.03</td>\n",
       "    </tr>\n",
       "    <tr>\n",
       "      <th>192</th>\n",
       "      <td>8</td>\n",
       "      <td>2</td>\n",
       "      <td>37.4</td>\n",
       "      <td>28.2</td>\n",
       "      <td>1.4</td>\n",
       "      <td>68.4</td>\n",
       "      <td>0.0</td>\n",
       "      <td>17.8</td>\n",
       "      <td>99</td>\n",
       "      <td>31</td>\n",
       "      <td>32</td>\n",
       "      <td>0.67</td>\n",
       "      <td>0.47</td>\n",
       "      <td>0.43</td>\n",
       "      <td>0.17</td>\n",
       "    </tr>\n",
       "    <tr>\n",
       "      <th>193</th>\n",
       "      <td>8</td>\n",
       "      <td>2</td>\n",
       "      <td>33.2</td>\n",
       "      <td>20.2</td>\n",
       "      <td>1.6</td>\n",
       "      <td>58.0</td>\n",
       "      <td>0.0</td>\n",
       "      <td>11.5</td>\n",
       "      <td>99</td>\n",
       "      <td>31</td>\n",
       "      <td>32</td>\n",
       "      <td>0.51</td>\n",
       "      <td>0.36</td>\n",
       "      <td>0.32</td>\n",
       "      <td>0.09</td>\n",
       "    </tr>\n",
       "    <tr>\n",
       "      <th>194</th>\n",
       "      <td>8</td>\n",
       "      <td>2</td>\n",
       "      <td>26.2</td>\n",
       "      <td>14.1</td>\n",
       "      <td>1.9</td>\n",
       "      <td>69.6</td>\n",
       "      <td>0.0</td>\n",
       "      <td>15.4</td>\n",
       "      <td>99</td>\n",
       "      <td>31</td>\n",
       "      <td>32</td>\n",
       "      <td>0.57</td>\n",
       "      <td>0.37</td>\n",
       "      <td>0.34</td>\n",
       "      <td>0.08</td>\n",
       "    </tr>\n",
       "  </tbody>\n",
       "</table>\n",
       "</div>"
      ],
      "text/plain": [
       "     Field #  Seed   Max t°C  Min t°C  Wind Speed (m/s)  Humidity (%)  \\\n",
       "190        8      2     40.3     27.9               3.0          64.3   \n",
       "191        8      2     38.4     28.0               1.8          66.3   \n",
       "192        8      2     37.4     28.2               1.4          68.4   \n",
       "193        8      2     33.2     20.2               1.6          58.0   \n",
       "194        8      2     26.2     14.1               1.9          69.6   \n",
       "\n",
       "     Precipitation (mm)  Rainfall   N   P   K  NDVI  NDMI  MSAVI  NRDE  \n",
       "190                 0.0      54.9  99  31  32  0.46  0.28   0.25  0.04  \n",
       "191                 0.0      32.0  99  31  32  0.40  0.23   0.23  0.03  \n",
       "192                 0.0      17.8  99  31  32  0.67  0.47   0.43  0.17  \n",
       "193                 0.0      11.5  99  31  32  0.51  0.36   0.32  0.09  \n",
       "194                 0.0      15.4  99  31  32  0.57  0.37   0.34  0.08  "
      ]
     },
     "execution_count": 15,
     "metadata": {},
     "output_type": "execute_result"
    }
   ],
   "source": [
    "#testing data\n",
    "\n",
    "testing_data=data.iloc[190:, 0:15]\n",
    "testing_data.head()"
   ]
  },
  {
   "cell_type": "code",
   "execution_count": 16,
   "id": "ced010c1",
   "metadata": {},
   "outputs": [
    {
     "data": {
      "text/plain": [
       "190    725\n",
       "191    725\n",
       "192    725\n",
       "193    725\n",
       "194    725\n",
       "Name: Yield, dtype: int64"
      ]
     },
     "execution_count": 16,
     "metadata": {},
     "output_type": "execute_result"
    }
   ],
   "source": [
    "testing_label=data.iloc[190:, -1]\n",
    "testing_label.head()"
   ]
  },
  {
   "cell_type": "markdown",
   "id": "df4740a4",
   "metadata": {},
   "source": [
    "# Imported Linear regression model is Trained using training data"
   ]
  },
  {
   "cell_type": "code",
   "execution_count": 17,
   "id": "99f8b6a6",
   "metadata": {},
   "outputs": [],
   "source": [
    "# linear regression model from sklearn is used\n",
    "# normalization is performed\n",
    "model = linear_model.LinearRegression(normalize=True)\n",
    "\n",
    "#model is trained using our data\n",
    "model.fit(training_data,training_label)\n",
    "y_train_pred = model.predict(training_data)"
   ]
  },
  {
   "cell_type": "markdown",
   "id": "ba73f084",
   "metadata": {},
   "source": [
    "# Predication is performed by trained model using testing data"
   ]
  },
  {
   "cell_type": "code",
   "execution_count": 18,
   "id": "7186362b",
   "metadata": {},
   "outputs": [],
   "source": [
    "# Now prediction is formed using trained model\n",
    "y_predicted = model.predict(testing_data)"
   ]
  },
  {
   "cell_type": "code",
   "execution_count": 19,
   "id": "8d215a37",
   "metadata": {},
   "outputs": [
    {
     "name": "stdout",
     "output_type": "stream",
     "text": [
      "Feature: 0, Score: 4.17805\n",
      "Feature: 1, Score: -91.31120\n",
      "Feature: 2, Score: 0.68668\n",
      "Feature: 3, Score: -2.81925\n",
      "Feature: 4, Score: -2.61576\n",
      "Feature: 5, Score: -0.62879\n",
      "Feature: 6, Score: 2.11627\n",
      "Feature: 7, Score: 0.25172\n",
      "Feature: 8, Score: 2.98962\n",
      "Feature: 9, Score: -0.72427\n",
      "Feature: 10, Score: -2.91161\n",
      "Feature: 11, Score: -2.34323\n",
      "Feature: 12, Score: -208.96636\n",
      "Feature: 13, Score: 164.26565\n",
      "Feature: 14, Score: 137.84286\n"
     ]
    },
    {
     "data": {
      "image/png": "[encoded data removed]",
      "text/plain": [
       "<Figure size 432x288 with 1 Axes>"
      ]
     },
     "metadata": {
      "needs_background": "light"
     },
     "output_type": "display_data"
    }
   ],
   "source": [
    "# Checking the importance of features\n",
    "importance = model.coef_\n",
    "\n",
    "# summarize feature importance\n",
    "for i,v in enumerate(importance):\n",
    "\tprint('Feature: %0d, Score: %.5f' % (i,v))\n",
    "# plot feature importance\n",
    "\n",
    "plt.bar([x for x in range(len(importance))], importance)\n",
    "plt.show()"
   ]
  },
  {
   "cell_type": "markdown",
   "id": "46709b16",
   "metadata": {},
   "source": [
    "# Evaluate the Model: Measure the Mean Sqaure Error"
   ]
  },
  {
   "cell_type": "code",
   "execution_count": 20,
   "id": "289232fa",
   "metadata": {},
   "outputs": [
    {
     "name": "stdout",
     "output_type": "stream",
     "text": [
      "Mean squared error is:  35340.90292224623\n",
      "Weights:  [   4.17804507  -91.3111977     0.68667707   -2.81925262   -2.61575587\n",
      "   -0.62879242    2.11627145    0.25172447    2.98961938   -0.7242743\n",
      "   -2.91160904   -2.34322596 -208.96636412  164.2656471   137.84285883]\n",
      "Intercept:  780.6875017992245\n"
     ]
    }
   ],
   "source": [
    "# Model is evaluated by measuring Mean squared error\n",
    "print(\"Mean squared error is: \", mean_squared_error(testing_label, y_predicted))\n",
    "\n",
    "print(\"Weights: \", model.coef_)\n",
    "print(\"Intercept: \", model.intercept_)"
   ]
  },
  {
   "cell_type": "code",
   "execution_count": 21,
   "id": "0d0d2b81",
   "metadata": {},
   "outputs": [
    {
     "name": "stdout",
     "output_type": "stream",
     "text": [
      "MAE: 162.803\n"
     ]
    }
   ],
   "source": [
    "\n",
    "error= mean_absolute_error(testing_label, y_predicted)\n",
    "print('MAE: %.3f' % error)"
   ]
  },
  {
   "cell_type": "code",
   "execution_count": 22,
   "id": "e056a653",
   "metadata": {},
   "outputs": [
    {
     "data": {
      "text/plain": [
       "<Figure size 432x288 with 0 Axes>"
      ]
     },
     "execution_count": 22,
     "metadata": {},
     "output_type": "execute_result"
    },
    {
     "data": {
      "image/png": "[encoded data removed]",
      "text/plain": [
       "<Figure size 432x288 with 1 Axes>"
      ]
     },
     "metadata": {
      "needs_background": "light"
     },
     "output_type": "display_data"
    },
    {
     "data": {
      "text/plain": [
       "<Figure size 432x288 with 0 Axes>"
      ]
     },
     "metadata": {},
     "output_type": "display_data"
    }
   ],
   "source": [
    "plt.plot(training_label, y_train_pred,'*r')\n",
    "plt.plot(testing_label, y_predicted, '*g')\n",
    "plt.figure()\n"
   ]
  },
  {
   "cell_type": "markdown",
   "id": "e23619b9",
   "metadata": {},
   "source": [
    "#  Prediction for the new sample"
   ]
  },
  {
   "cell_type": "code",
   "execution_count": 23,
   "id": "85d43fbb",
   "metadata": {},
   "outputs": [],
   "source": [
    "#Just for checking I have taken testing sample"
   ]
  },
  {
   "cell_type": "code",
   "execution_count": 24,
   "id": "6b5c4eee",
   "metadata": {},
   "outputs": [
    {
     "name": "stdout",
     "output_type": "stream",
     "text": [
      "input features\n"
     ]
    },
    {
     "data": {
      "text/plain": [
       "Field #                8.00\n",
       "Seed                   2.00\n",
       "Max t°C               33.20\n",
       "Min t°C               20.20\n",
       "Wind Speed (m/s)       1.60\n",
       "Humidity (%)          58.00\n",
       "Precipitation (mm)     0.00\n",
       "Rainfall              11.50\n",
       "N                     99.00\n",
       "P                     31.00\n",
       "K                     32.00\n",
       "NDVI                   0.51\n",
       "NDMI                   0.36\n",
       "MSAVI                  0.32\n",
       "NRDE                   0.09\n",
       "Name: 193, dtype: float64"
      ]
     },
     "execution_count": 24,
     "metadata": {},
     "output_type": "execute_result"
    }
   ],
   "source": [
    "print('input features')\n",
    "testing_data.iloc[3]"
   ]
  },
  {
   "cell_type": "code",
   "execution_count": 25,
   "id": "a6bd28af",
   "metadata": {},
   "outputs": [
    {
     "name": "stdout",
     "output_type": "stream",
     "text": [
      "Yield\n"
     ]
    },
    {
     "data": {
      "text/plain": [
       "725"
      ]
     },
     "execution_count": 25,
     "metadata": {},
     "output_type": "execute_result"
    }
   ],
   "source": [
    "print('Yield')\n",
    "testing_label.iloc[3]"
   ]
  },
  {
   "cell_type": "code",
   "execution_count": 26,
   "id": "9ecf344e",
   "metadata": {},
   "outputs": [],
   "source": [
    "# Here you can enter new input in array below"
   ]
  },
  {
   "cell_type": "code",
   "execution_count": 27,
   "id": "722e1dae",
   "metadata": {},
   "outputs": [
    {
     "data": {
      "text/plain": [
       "array([8.00e+00, 2.00e+00, 3.30e+01, 2.02e+01, 1.60e+00, 5.80e+01,\n",
       "       0.00e+00, 1.15e+01, 9.90e+01, 3.10e+01, 3.20e+01, 5.10e-01,\n",
       "       3.60e-01, 3.20e-01, 9.00e-02])"
      ]
     },
     "execution_count": 27,
     "metadata": {},
     "output_type": "execute_result"
    }
   ],
   "source": [
    "test_sample= np.array([8,2,33,20.20,1.6,58,0,11.50,99,31,32,0.51,0.36,0.32,0.09])\n",
    "test_sample"
   ]
  },
  {
   "cell_type": "code",
   "execution_count": 28,
   "id": "41fdd563",
   "metadata": {},
   "outputs": [
    {
     "data": {
      "text/plain": [
       "(15,)"
      ]
     },
     "execution_count": 28,
     "metadata": {},
     "output_type": "execute_result"
    }
   ],
   "source": [
    "test_sample.shape"
   ]
  },
  {
   "cell_type": "code",
   "execution_count": 29,
   "id": "5089eb7e",
   "metadata": {},
   "outputs": [
    {
     "data": {
      "text/plain": [
       "numpy.ndarray"
      ]
     },
     "execution_count": 29,
     "metadata": {},
     "output_type": "execute_result"
    }
   ],
   "source": [
    "type(test_sample)"
   ]
  },
  {
   "cell_type": "code",
   "execution_count": 30,
   "id": "96f31c7e",
   "metadata": {},
   "outputs": [
    {
     "data": {
      "text/plain": [
       "1"
      ]
     },
     "execution_count": 30,
     "metadata": {},
     "output_type": "execute_result"
    }
   ],
   "source": [
    "test_sample.ndim"
   ]
  },
  {
   "cell_type": "code",
   "execution_count": 31,
   "id": "bf64a7e5",
   "metadata": {},
   "outputs": [
    {
     "name": "stdout",
     "output_type": "stream",
     "text": [
      "(1, 15)\n",
      "2\n"
     ]
    }
   ],
   "source": [
    "test_sample=test_sample.reshape(1,15)\n",
    "print(test_sample.shape)\n",
    "print(test_sample.ndim)"
   ]
  },
  {
   "cell_type": "code",
   "execution_count": 32,
   "id": "26b1871d",
   "metadata": {},
   "outputs": [],
   "source": [
    "y_predicted = model.predict(test_sample)"
   ]
  },
  {
   "cell_type": "code",
   "execution_count": 33,
   "id": "0ddd7661",
   "metadata": {},
   "outputs": [
    {
     "data": {
      "text/plain": [
       "array([728.33682259])"
      ]
     },
     "execution_count": 33,
     "metadata": {},
     "output_type": "execute_result"
    }
   ],
   "source": [
    "y_predicted"
   ]
  },
  {
   "cell_type": "code",
   "execution_count": null,
   "id": "7491f352",
   "metadata": {},
   "outputs": [],
   "source": []
  }
 ],
 "metadata": {
  "kernelspec": {
   "display_name": "Python 3 (ipykernel)",
   "language": "python",
   "name": "python3"
  },
  "language_info": {
   "codemirror_mode": {
    "name": "ipython",
    "version": 3
   },
   "file_extension": ".py",
   "mimetype": "text/x-python",
   "name": "python",
   "nbconvert_exporter": "python",
   "pygments_lexer": "ipython3",
   "version": "3.9.7"
  }
 },
 "nbformat": 4,
 "nbformat_minor": 5
}
