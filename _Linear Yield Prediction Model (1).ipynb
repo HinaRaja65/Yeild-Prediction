{
 "cells": [
  {
   "cell_type": "markdown",
   "id": "d69c975b",
   "metadata": {},
   "source": [
    "# Linear Regression Model\n",
    "\n",
    "%%%%%%%%%%%%%%%%%%%%%%%%%%%%%%%%%%%%%%%%%%%%%%%%%%%%%%%%%%%%%%%%%%%%%%%%%%%%%%\n",
    "This code is the implementation of linear regression model for yield \n",
    "predication.\n",
    "\n",
    "We are using linear regression model which is imported from Sklearn library.\n",
    "\n",
    "Data is comprised of 234 samples. Each training sample is consist of 16 input\n",
    "features(x1,x2,x3,....) and corresponding output(y) i.e yield.\n",
    "\n",
    "x1= Flied \n",
    "x2= Seed\n",
    "x3= max temp\n",
    "x4= min temp\n",
    "x5= Wind speed\n",
    "x6= humidity\n",
    "x7= Precipitation\n",
    "x8= Rain fall\n",
    "x9= N\n",
    "x10=P\n",
    "x11=K\n",
    "x12=NDVI\n",
    "x13=NDMI\n",
    "x14=MSAVI\n",
    "x15=NRDE\n",
    "x16= Soil fertility\n",
    "\n",
    "y= Yield \n",
    "\n",
    "linear model\n",
    "h=theta0+ theta1*x1+ theta2*x2+ theta3*x3 .......theta16*x16\n",
    "\n",
    "these theta's are trained during training.\n",
    "\n",
    "%%%%%%%%%%%%%%%%%%%%%%%%%%%%%%%%%%%%%%%%%%%%%%%%%%%%%%%%%%%%%%%%%%%%%%%%%%%%%%%\n",
    "\n",
    "1. Importing required packages.\n",
    "2. Read the data/load the data.\n",
    "3. Data Cleaning.\n",
    "4. Visualizing the data, how data looks like.\n",
    "5. Spliting dataset into training and testing data.\n",
    "6. Imported Linear regression model is Trained using training data\n",
    "7. Predication is performed by trained model using testing data\n",
    "8. Evaluate the Model: Measure the Mean Sqaure Error\n",
    "9. Prediction for the new sample\n",
    "\n"
   ]
  },
  {
   "cell_type": "markdown",
   "id": "f6124089",
   "metadata": {},
   "source": [
    "# Importing required packages"
   ]
  },
  {
   "cell_type": "code",
   "execution_count": 1,
   "id": "23a68371",
   "metadata": {},
   "outputs": [],
   "source": [
    "import numpy as np\n",
    "import pandas as pd\n",
    "import matplotlib.pyplot as plt\n",
    "from sklearn import datasets, linear_model\n",
    "from sklearn.metrics import  mean_squared_error\n",
    "from sklearn.metrics import  mean_absolute_error\n"
   ]
  },
  {
   "cell_type": "markdown",
   "id": "4ff82a07",
   "metadata": {},
   "source": [
    "#  Read the data/load the data"
   ]
  },
  {
   "cell_type": "code",
   "execution_count": 2,
   "id": "216f95bb",
   "metadata": {},
   "outputs": [],
   "source": [
    "# we are using pandas libaray for reading the file\n",
    "# We are reading ecxel file and path should be where you ecxel file is located.\n",
    "# place \"r\" before the path string to address special character,such as '\\'.\n",
    "# Don't forget to put the file name at the end of the path + '.xlsx'\n",
    "\n",
    "data=pd.read_excel(r\"C:\\python\\Yield Predicition\\sugaravg.xlsx\")\n"
   ]
  },
  {
   "cell_type": "code",
   "execution_count": 3,
   "id": "c6076485",
   "metadata": {},
   "outputs": [
    {
     "data": {
      "text/html": [
       "<div>\n",
       "<style scoped>\n",
       "    .dataframe tbody tr th:only-of-type {\n",
       "        vertical-align: middle;\n",
       "    }\n",
       "\n",
       "    .dataframe tbody tr th {\n",
       "        vertical-align: top;\n",
       "    }\n",
       "\n",
       "    .dataframe thead th {\n",
       "        text-align: right;\n",
       "    }\n",
       "</style>\n",
       "<table border=\"1\" class=\"dataframe\">\n",
       "  <thead>\n",
       "    <tr style=\"text-align: right;\">\n",
       "      <th></th>\n",
       "      <th>Location</th>\n",
       "      <th>Seed</th>\n",
       "      <th>N</th>\n",
       "      <th>P</th>\n",
       "      <th>K</th>\n",
       "      <th>Soil Fertlity</th>\n",
       "      <th>maxt</th>\n",
       "      <th>mint</th>\n",
       "      <th>wind</th>\n",
       "      <th>hum</th>\n",
       "      <th>preci</th>\n",
       "      <th>rain</th>\n",
       "      <th>ndvi</th>\n",
       "      <th>ndmi</th>\n",
       "      <th>msavi</th>\n",
       "      <th>ndre</th>\n",
       "      <th>Yield</th>\n",
       "    </tr>\n",
       "  </thead>\n",
       "  <tbody>\n",
       "    <tr>\n",
       "      <th>0</th>\n",
       "      <td>11</td>\n",
       "      <td>21</td>\n",
       "      <td>103</td>\n",
       "      <td>57</td>\n",
       "      <td>50</td>\n",
       "      <td>2</td>\n",
       "      <td>31.016667</td>\n",
       "      <td>19.041667</td>\n",
       "      <td>2.025000</td>\n",
       "      <td>63.591667</td>\n",
       "      <td>0.450000</td>\n",
       "      <td>32.183333</td>\n",
       "      <td>0.435833</td>\n",
       "      <td>0.295833</td>\n",
       "      <td>0.225000</td>\n",
       "      <td>0.045833</td>\n",
       "      <td>818</td>\n",
       "    </tr>\n",
       "    <tr>\n",
       "      <th>1</th>\n",
       "      <td>11</td>\n",
       "      <td>21</td>\n",
       "      <td>103</td>\n",
       "      <td>57</td>\n",
       "      <td>50</td>\n",
       "      <td>2</td>\n",
       "      <td>31.500000</td>\n",
       "      <td>18.575000</td>\n",
       "      <td>2.125000</td>\n",
       "      <td>60.400000</td>\n",
       "      <td>4.916667</td>\n",
       "      <td>31.125000</td>\n",
       "      <td>0.520000</td>\n",
       "      <td>0.366667</td>\n",
       "      <td>0.278333</td>\n",
       "      <td>0.149167</td>\n",
       "      <td>836</td>\n",
       "    </tr>\n",
       "    <tr>\n",
       "      <th>2</th>\n",
       "      <td>11</td>\n",
       "      <td>21</td>\n",
       "      <td>69</td>\n",
       "      <td>23</td>\n",
       "      <td>25</td>\n",
       "      <td>1</td>\n",
       "      <td>31.016667</td>\n",
       "      <td>19.041667</td>\n",
       "      <td>2.025000</td>\n",
       "      <td>63.591667</td>\n",
       "      <td>0.450000</td>\n",
       "      <td>32.183333</td>\n",
       "      <td>0.430833</td>\n",
       "      <td>0.288333</td>\n",
       "      <td>0.240833</td>\n",
       "      <td>0.046667</td>\n",
       "      <td>615</td>\n",
       "    </tr>\n",
       "    <tr>\n",
       "      <th>3</th>\n",
       "      <td>11</td>\n",
       "      <td>21</td>\n",
       "      <td>102</td>\n",
       "      <td>56</td>\n",
       "      <td>50</td>\n",
       "      <td>1</td>\n",
       "      <td>31.500000</td>\n",
       "      <td>18.575000</td>\n",
       "      <td>2.125000</td>\n",
       "      <td>60.400000</td>\n",
       "      <td>4.916667</td>\n",
       "      <td>31.125000</td>\n",
       "      <td>0.488333</td>\n",
       "      <td>0.333333</td>\n",
       "      <td>0.281667</td>\n",
       "      <td>0.104167</td>\n",
       "      <td>719</td>\n",
       "    </tr>\n",
       "    <tr>\n",
       "      <th>4</th>\n",
       "      <td>11</td>\n",
       "      <td>22</td>\n",
       "      <td>103</td>\n",
       "      <td>57</td>\n",
       "      <td>50</td>\n",
       "      <td>2</td>\n",
       "      <td>33.141667</td>\n",
       "      <td>19.250000</td>\n",
       "      <td>2.058333</td>\n",
       "      <td>55.800000</td>\n",
       "      <td>0.050000</td>\n",
       "      <td>18.436667</td>\n",
       "      <td>0.430833</td>\n",
       "      <td>0.288333</td>\n",
       "      <td>0.240833</td>\n",
       "      <td>0.046667</td>\n",
       "      <td>592</td>\n",
       "    </tr>\n",
       "  </tbody>\n",
       "</table>\n",
       "</div>"
      ],
      "text/plain": [
       "   Location  Seed    N   P   K  Soil Fertlity       maxt       mint      wind  \\\n",
       "0        11    21  103  57  50              2  31.016667  19.041667  2.025000   \n",
       "1        11    21  103  57  50              2  31.500000  18.575000  2.125000   \n",
       "2        11    21   69  23  25              1  31.016667  19.041667  2.025000   \n",
       "3        11    21  102  56  50              1  31.500000  18.575000  2.125000   \n",
       "4        11    22  103  57  50              2  33.141667  19.250000  2.058333   \n",
       "\n",
       "         hum     preci       rain      ndvi      ndmi     msavi      ndre  \\\n",
       "0  63.591667  0.450000  32.183333  0.435833  0.295833  0.225000  0.045833   \n",
       "1  60.400000  4.916667  31.125000  0.520000  0.366667  0.278333  0.149167   \n",
       "2  63.591667  0.450000  32.183333  0.430833  0.288333  0.240833  0.046667   \n",
       "3  60.400000  4.916667  31.125000  0.488333  0.333333  0.281667  0.104167   \n",
       "4  55.800000  0.050000  18.436667  0.430833  0.288333  0.240833  0.046667   \n",
       "\n",
       "   Yield  \n",
       "0    818  \n",
       "1    836  \n",
       "2    615  \n",
       "3    719  \n",
       "4    592  "
      ]
     },
     "execution_count": 3,
     "metadata": {},
     "output_type": "execute_result"
    }
   ],
   "source": [
    "#Showing the first five entries of data\n",
    "data.head()"
   ]
  },
  {
   "cell_type": "markdown",
   "id": "07d95e32",
   "metadata": {},
   "source": [
    "# Data Cleaning"
   ]
  },
  {
   "cell_type": "code",
   "execution_count": 4,
   "id": "de0ac00f",
   "metadata": {},
   "outputs": [],
   "source": [
    "# As there some extra columns so we need to perform data cleaning\n",
    "\n",
    "#data.drop(columns='Month', inplace=True)\n",
    "#data.head()"
   ]
  },
  {
   "cell_type": "markdown",
   "id": "10c0ba80",
   "metadata": {},
   "source": [
    "# Visualizing the data, how data looks like."
   ]
  },
  {
   "cell_type": "code",
   "execution_count": 5,
   "id": "e244e587",
   "metadata": {},
   "outputs": [
    {
     "name": "stdout",
     "output_type": "stream",
     "text": [
      "<class 'pandas.core.frame.DataFrame'>\n",
      "RangeIndex: 100 entries, 0 to 99\n",
      "Data columns (total 17 columns):\n",
      " #   Column         Non-Null Count  Dtype  \n",
      "---  ------         --------------  -----  \n",
      " 0   Location       100 non-null    int64  \n",
      " 1   Seed           100 non-null    int64  \n",
      " 2   N              100 non-null    int64  \n",
      " 3   P              100 non-null    int64  \n",
      " 4   K              100 non-null    int64  \n",
      " 5   Soil Fertlity  100 non-null    int64  \n",
      " 6   maxt           100 non-null    float64\n",
      " 7   mint           100 non-null    float64\n",
      " 8   wind           100 non-null    float64\n",
      " 9   hum            100 non-null    float64\n",
      " 10  preci          100 non-null    float64\n",
      " 11  rain           100 non-null    float64\n",
      " 12  ndvi           100 non-null    float64\n",
      " 13  ndmi           100 non-null    float64\n",
      " 14  msavi          100 non-null    float64\n",
      " 15  ndre           100 non-null    float64\n",
      " 16  Yield          100 non-null    int64  \n",
      "dtypes: float64(10), int64(7)\n",
      "memory usage: 13.4 KB\n"
     ]
    }
   ],
   "source": [
    "# Information about your data, how many entries and which type of data is present in dataframe\n",
    "data.info()"
   ]
  },
  {
   "cell_type": "code",
   "execution_count": 6,
   "id": "2fef8d6a",
   "metadata": {},
   "outputs": [
    {
     "data": {
      "text/plain": [
       "(100, 17)"
      ]
     },
     "execution_count": 6,
     "metadata": {},
     "output_type": "execute_result"
    }
   ],
   "source": [
    "#tells the shape of dataframe\n",
    "data.shape"
   ]
  },
  {
   "cell_type": "code",
   "execution_count": 7,
   "id": "db0a57d4",
   "metadata": {},
   "outputs": [
    {
     "data": {
      "text/plain": [
       "<AxesSubplot:xlabel='rain', ylabel='Yield'>"
      ]
     },
     "execution_count": 7,
     "metadata": {},
     "output_type": "execute_result"
    },
    {
     "data": {
      "image/png": "[encoded data removed]",
      "text/plain": [
       "<Figure size 432x432 with 1 Axes>"
      ]
     },
     "metadata": {
      "needs_background": "light"
     },
     "output_type": "display_data"
    }
   ],
   "source": [
    "data.plot(kind='scatter', x='rain', y='Yield', figsize=(6,6))"
   ]
  },
  {
   "cell_type": "code",
   "execution_count": 8,
   "id": "a64afd4b",
   "metadata": {},
   "outputs": [
    {
     "data": {
      "text/plain": [
       "<AxesSubplot:xlabel='msavi', ylabel='Yield'>"
      ]
     },
     "execution_count": 8,
     "metadata": {},
     "output_type": "execute_result"
    },
    {
     "data": {
      "image/png": "[encoded data removed]",
      "text/plain": [
       "<Figure size 432x432 with 1 Axes>"
      ]
     },
     "metadata": {
      "needs_background": "light"
     },
     "output_type": "display_data"
    }
   ],
   "source": [
    "data.plot(kind='scatter', x='msavi', y='Yield', figsize=(6,6))"
   ]
  },
  {
   "cell_type": "code",
   "execution_count": 9,
   "id": "7022f23b",
   "metadata": {},
   "outputs": [
    {
     "data": {
      "text/plain": [
       "<AxesSubplot:xlabel='ndmi', ylabel='Yield'>"
      ]
     },
     "execution_count": 9,
     "metadata": {},
     "output_type": "execute_result"
    },
    {
     "data": {
      "image/png": "[encoded data removed]",
      "text/plain": [
       "<Figure size 432x432 with 1 Axes>"
      ]
     },
     "metadata": {
      "needs_background": "light"
     },
     "output_type": "display_data"
    }
   ],
   "source": [
    "data.plot(kind='scatter', x='ndmi', y='Yield', figsize=(6,6))"
   ]
  },
  {
   "cell_type": "code",
   "execution_count": 10,
   "id": "73b87300",
   "metadata": {},
   "outputs": [
    {
     "data": {
      "text/plain": [
       "<AxesSubplot:xlabel='preci', ylabel='Yield'>"
      ]
     },
     "execution_count": 10,
     "metadata": {},
     "output_type": "execute_result"
    },
    {
     "data": {
      "image/png": "[encoded data removed]",
      "text/plain": [
       "<Figure size 432x432 with 1 Axes>"
      ]
     },
     "metadata": {
      "needs_background": "light"
     },
     "output_type": "display_data"
    }
   ],
   "source": [
    "data.plot(kind='scatter', x='preci', y='Yield', figsize=(6,6))"
   ]
  },
  {
   "cell_type": "code",
   "execution_count": 11,
   "id": "bb40f824",
   "metadata": {},
   "outputs": [
    {
     "data": {
      "text/plain": [
       "<AxesSubplot:xlabel='hum', ylabel='Yield'>"
      ]
     },
     "execution_count": 11,
     "metadata": {},
     "output_type": "execute_result"
    },
    {
     "data": {
      "image/png": "[encoded data removed]",
      "text/plain": [
       "<Figure size 432x432 with 1 Axes>"
      ]
     },
     "metadata": {
      "needs_background": "light"
     },
     "output_type": "display_data"
    }
   ],
   "source": [
    "data.plot(kind='scatter', x='hum', y='Yield', figsize=(6,6))"
   ]
  },
  {
   "cell_type": "markdown",
   "id": "3646dc8b",
   "metadata": {},
   "source": [
    "# Spliting dataset into training and testing data\n",
    "\n",
    "Total of 60 samples we are taking first 190 samples as training data and last 44 samples as testing data"
   ]
  },
  {
   "cell_type": "code",
   "execution_count": 12,
   "id": "eb0066ac",
   "metadata": {},
   "outputs": [
    {
     "data": {
      "text/html": [
       "<div>\n",
       "<style scoped>\n",
       "    .dataframe tbody tr th:only-of-type {\n",
       "        vertical-align: middle;\n",
       "    }\n",
       "\n",
       "    .dataframe tbody tr th {\n",
       "        vertical-align: top;\n",
       "    }\n",
       "\n",
       "    .dataframe thead th {\n",
       "        text-align: right;\n",
       "    }\n",
       "</style>\n",
       "<table border=\"1\" class=\"dataframe\">\n",
       "  <thead>\n",
       "    <tr style=\"text-align: right;\">\n",
       "      <th></th>\n",
       "      <th>Location</th>\n",
       "      <th>Seed</th>\n",
       "      <th>N</th>\n",
       "      <th>P</th>\n",
       "      <th>K</th>\n",
       "      <th>Soil Fertlity</th>\n",
       "      <th>maxt</th>\n",
       "      <th>mint</th>\n",
       "      <th>wind</th>\n",
       "      <th>hum</th>\n",
       "      <th>preci</th>\n",
       "      <th>rain</th>\n",
       "      <th>ndvi</th>\n",
       "      <th>ndmi</th>\n",
       "      <th>msavi</th>\n",
       "    </tr>\n",
       "  </thead>\n",
       "  <tbody>\n",
       "    <tr>\n",
       "      <th>0</th>\n",
       "      <td>11</td>\n",
       "      <td>21</td>\n",
       "      <td>103</td>\n",
       "      <td>57</td>\n",
       "      <td>50</td>\n",
       "      <td>2</td>\n",
       "      <td>31.016667</td>\n",
       "      <td>19.041667</td>\n",
       "      <td>2.025000</td>\n",
       "      <td>63.591667</td>\n",
       "      <td>0.450000</td>\n",
       "      <td>32.183333</td>\n",
       "      <td>0.435833</td>\n",
       "      <td>0.295833</td>\n",
       "      <td>0.225000</td>\n",
       "    </tr>\n",
       "    <tr>\n",
       "      <th>1</th>\n",
       "      <td>11</td>\n",
       "      <td>21</td>\n",
       "      <td>103</td>\n",
       "      <td>57</td>\n",
       "      <td>50</td>\n",
       "      <td>2</td>\n",
       "      <td>31.500000</td>\n",
       "      <td>18.575000</td>\n",
       "      <td>2.125000</td>\n",
       "      <td>60.400000</td>\n",
       "      <td>4.916667</td>\n",
       "      <td>31.125000</td>\n",
       "      <td>0.520000</td>\n",
       "      <td>0.366667</td>\n",
       "      <td>0.278333</td>\n",
       "    </tr>\n",
       "    <tr>\n",
       "      <th>2</th>\n",
       "      <td>11</td>\n",
       "      <td>21</td>\n",
       "      <td>69</td>\n",
       "      <td>23</td>\n",
       "      <td>25</td>\n",
       "      <td>1</td>\n",
       "      <td>31.016667</td>\n",
       "      <td>19.041667</td>\n",
       "      <td>2.025000</td>\n",
       "      <td>63.591667</td>\n",
       "      <td>0.450000</td>\n",
       "      <td>32.183333</td>\n",
       "      <td>0.430833</td>\n",
       "      <td>0.288333</td>\n",
       "      <td>0.240833</td>\n",
       "    </tr>\n",
       "    <tr>\n",
       "      <th>3</th>\n",
       "      <td>11</td>\n",
       "      <td>21</td>\n",
       "      <td>102</td>\n",
       "      <td>56</td>\n",
       "      <td>50</td>\n",
       "      <td>1</td>\n",
       "      <td>31.500000</td>\n",
       "      <td>18.575000</td>\n",
       "      <td>2.125000</td>\n",
       "      <td>60.400000</td>\n",
       "      <td>4.916667</td>\n",
       "      <td>31.125000</td>\n",
       "      <td>0.488333</td>\n",
       "      <td>0.333333</td>\n",
       "      <td>0.281667</td>\n",
       "    </tr>\n",
       "    <tr>\n",
       "      <th>4</th>\n",
       "      <td>11</td>\n",
       "      <td>22</td>\n",
       "      <td>103</td>\n",
       "      <td>57</td>\n",
       "      <td>50</td>\n",
       "      <td>2</td>\n",
       "      <td>33.141667</td>\n",
       "      <td>19.250000</td>\n",
       "      <td>2.058333</td>\n",
       "      <td>55.800000</td>\n",
       "      <td>0.050000</td>\n",
       "      <td>18.436667</td>\n",
       "      <td>0.430833</td>\n",
       "      <td>0.288333</td>\n",
       "      <td>0.240833</td>\n",
       "    </tr>\n",
       "  </tbody>\n",
       "</table>\n",
       "</div>"
      ],
      "text/plain": [
       "   Location  Seed    N   P   K  Soil Fertlity       maxt       mint      wind  \\\n",
       "0        11    21  103  57  50              2  31.016667  19.041667  2.025000   \n",
       "1        11    21  103  57  50              2  31.500000  18.575000  2.125000   \n",
       "2        11    21   69  23  25              1  31.016667  19.041667  2.025000   \n",
       "3        11    21  102  56  50              1  31.500000  18.575000  2.125000   \n",
       "4        11    22  103  57  50              2  33.141667  19.250000  2.058333   \n",
       "\n",
       "         hum     preci       rain      ndvi      ndmi     msavi  \n",
       "0  63.591667  0.450000  32.183333  0.435833  0.295833  0.225000  \n",
       "1  60.400000  4.916667  31.125000  0.520000  0.366667  0.278333  \n",
       "2  63.591667  0.450000  32.183333  0.430833  0.288333  0.240833  \n",
       "3  60.400000  4.916667  31.125000  0.488333  0.333333  0.281667  \n",
       "4  55.800000  0.050000  18.436667  0.430833  0.288333  0.240833  "
      ]
     },
     "execution_count": 12,
     "metadata": {},
     "output_type": "execute_result"
    }
   ],
   "source": [
    "#Training data\n",
    "training_data=data.iloc[:80, 0:15]\n",
    "training_data.head()"
   ]
  },
  {
   "cell_type": "code",
   "execution_count": 13,
   "id": "ab33be7e",
   "metadata": {},
   "outputs": [
    {
     "data": {
      "text/plain": [
       "(80, 15)"
      ]
     },
     "execution_count": 13,
     "metadata": {},
     "output_type": "execute_result"
    }
   ],
   "source": [
    "training_data.shape"
   ]
  },
  {
   "cell_type": "code",
   "execution_count": 14,
   "id": "55ac1b3a",
   "metadata": {},
   "outputs": [
    {
     "data": {
      "text/html": [
       "<div>\n",
       "<style scoped>\n",
       "    .dataframe tbody tr th:only-of-type {\n",
       "        vertical-align: middle;\n",
       "    }\n",
       "\n",
       "    .dataframe tbody tr th {\n",
       "        vertical-align: top;\n",
       "    }\n",
       "\n",
       "    .dataframe thead th {\n",
       "        text-align: right;\n",
       "    }\n",
       "</style>\n",
       "<table border=\"1\" class=\"dataframe\">\n",
       "  <thead>\n",
       "    <tr style=\"text-align: right;\">\n",
       "      <th></th>\n",
       "      <th>Location</th>\n",
       "      <th>Seed</th>\n",
       "      <th>N</th>\n",
       "      <th>P</th>\n",
       "      <th>K</th>\n",
       "      <th>Soil Fertlity</th>\n",
       "      <th>maxt</th>\n",
       "      <th>mint</th>\n",
       "      <th>wind</th>\n",
       "      <th>hum</th>\n",
       "      <th>preci</th>\n",
       "      <th>rain</th>\n",
       "      <th>ndvi</th>\n",
       "      <th>ndmi</th>\n",
       "      <th>msavi</th>\n",
       "    </tr>\n",
       "  </thead>\n",
       "  <tbody>\n",
       "    <tr>\n",
       "      <th>count</th>\n",
       "      <td>80.000000</td>\n",
       "      <td>80.00000</td>\n",
       "      <td>80.000000</td>\n",
       "      <td>80.000000</td>\n",
       "      <td>80.000000</td>\n",
       "      <td>80.000000</td>\n",
       "      <td>80.000000</td>\n",
       "      <td>80.000000</td>\n",
       "      <td>80.000000</td>\n",
       "      <td>80.000000</td>\n",
       "      <td>80.000000</td>\n",
       "      <td>80.000000</td>\n",
       "      <td>80.000000</td>\n",
       "      <td>80.000000</td>\n",
       "      <td>80.000000</td>\n",
       "    </tr>\n",
       "    <tr>\n",
       "      <th>mean</th>\n",
       "      <td>13.025000</td>\n",
       "      <td>22.17500</td>\n",
       "      <td>92.187500</td>\n",
       "      <td>46.437500</td>\n",
       "      <td>42.987500</td>\n",
       "      <td>2.012500</td>\n",
       "      <td>35.262808</td>\n",
       "      <td>23.344578</td>\n",
       "      <td>2.883151</td>\n",
       "      <td>39.631647</td>\n",
       "      <td>1.332318</td>\n",
       "      <td>26.255802</td>\n",
       "      <td>0.456709</td>\n",
       "      <td>0.182156</td>\n",
       "      <td>0.269400</td>\n",
       "    </tr>\n",
       "    <tr>\n",
       "      <th>std</th>\n",
       "      <td>1.750045</td>\n",
       "      <td>0.75933</td>\n",
       "      <td>24.081136</td>\n",
       "      <td>17.312353</td>\n",
       "      <td>11.522673</td>\n",
       "      <td>0.787461</td>\n",
       "      <td>2.945412</td>\n",
       "      <td>3.103695</td>\n",
       "      <td>0.925954</td>\n",
       "      <td>14.102058</td>\n",
       "      <td>1.570740</td>\n",
       "      <td>9.536856</td>\n",
       "      <td>0.041139</td>\n",
       "      <td>0.084555</td>\n",
       "      <td>0.033963</td>\n",
       "    </tr>\n",
       "    <tr>\n",
       "      <th>min</th>\n",
       "      <td>11.000000</td>\n",
       "      <td>21.00000</td>\n",
       "      <td>40.000000</td>\n",
       "      <td>23.000000</td>\n",
       "      <td>0.000000</td>\n",
       "      <td>1.000000</td>\n",
       "      <td>31.016667</td>\n",
       "      <td>18.575000</td>\n",
       "      <td>2.025000</td>\n",
       "      <td>17.000000</td>\n",
       "      <td>0.000000</td>\n",
       "      <td>5.533333</td>\n",
       "      <td>0.352236</td>\n",
       "      <td>0.001569</td>\n",
       "      <td>0.188931</td>\n",
       "    </tr>\n",
       "    <tr>\n",
       "      <th>25%</th>\n",
       "      <td>11.000000</td>\n",
       "      <td>22.00000</td>\n",
       "      <td>70.500000</td>\n",
       "      <td>25.000000</td>\n",
       "      <td>34.250000</td>\n",
       "      <td>1.000000</td>\n",
       "      <td>32.895833</td>\n",
       "      <td>20.485417</td>\n",
       "      <td>2.125000</td>\n",
       "      <td>30.539062</td>\n",
       "      <td>0.294792</td>\n",
       "      <td>21.008333</td>\n",
       "      <td>0.430417</td>\n",
       "      <td>0.124604</td>\n",
       "      <td>0.244167</td>\n",
       "    </tr>\n",
       "    <tr>\n",
       "      <th>50%</th>\n",
       "      <td>14.000000</td>\n",
       "      <td>22.00000</td>\n",
       "      <td>107.000000</td>\n",
       "      <td>50.000000</td>\n",
       "      <td>50.000000</td>\n",
       "      <td>2.000000</td>\n",
       "      <td>34.911111</td>\n",
       "      <td>23.583333</td>\n",
       "      <td>2.539514</td>\n",
       "      <td>35.307292</td>\n",
       "      <td>0.542431</td>\n",
       "      <td>29.030833</td>\n",
       "      <td>0.456250</td>\n",
       "      <td>0.156250</td>\n",
       "      <td>0.267917</td>\n",
       "    </tr>\n",
       "    <tr>\n",
       "      <th>75%</th>\n",
       "      <td>15.000000</td>\n",
       "      <td>23.00000</td>\n",
       "      <td>110.000000</td>\n",
       "      <td>60.000000</td>\n",
       "      <td>50.000000</td>\n",
       "      <td>3.000000</td>\n",
       "      <td>37.854167</td>\n",
       "      <td>25.770833</td>\n",
       "      <td>3.358333</td>\n",
       "      <td>46.541667</td>\n",
       "      <td>2.029167</td>\n",
       "      <td>32.183333</td>\n",
       "      <td>0.488333</td>\n",
       "      <td>0.230833</td>\n",
       "      <td>0.290208</td>\n",
       "    </tr>\n",
       "    <tr>\n",
       "      <th>max</th>\n",
       "      <td>15.000000</td>\n",
       "      <td>23.00000</td>\n",
       "      <td>120.000000</td>\n",
       "      <td>69.000000</td>\n",
       "      <td>50.000000</td>\n",
       "      <td>3.000000</td>\n",
       "      <td>40.583333</td>\n",
       "      <td>28.916667</td>\n",
       "      <td>5.858333</td>\n",
       "      <td>63.591667</td>\n",
       "      <td>4.916667</td>\n",
       "      <td>38.275000</td>\n",
       "      <td>0.542500</td>\n",
       "      <td>0.366667</td>\n",
       "      <td>0.345833</td>\n",
       "    </tr>\n",
       "  </tbody>\n",
       "</table>\n",
       "</div>"
      ],
      "text/plain": [
       "        Location      Seed           N          P          K  Soil Fertlity  \\\n",
       "count  80.000000  80.00000   80.000000  80.000000  80.000000      80.000000   \n",
       "mean   13.025000  22.17500   92.187500  46.437500  42.987500       2.012500   \n",
       "std     1.750045   0.75933   24.081136  17.312353  11.522673       0.787461   \n",
       "min    11.000000  21.00000   40.000000  23.000000   0.000000       1.000000   \n",
       "25%    11.000000  22.00000   70.500000  25.000000  34.250000       1.000000   \n",
       "50%    14.000000  22.00000  107.000000  50.000000  50.000000       2.000000   \n",
       "75%    15.000000  23.00000  110.000000  60.000000  50.000000       3.000000   \n",
       "max    15.000000  23.00000  120.000000  69.000000  50.000000       3.000000   \n",
       "\n",
       "            maxt       mint       wind        hum      preci       rain  \\\n",
       "count  80.000000  80.000000  80.000000  80.000000  80.000000  80.000000   \n",
       "mean   35.262808  23.344578   2.883151  39.631647   1.332318  26.255802   \n",
       "std     2.945412   3.103695   0.925954  14.102058   1.570740   9.536856   \n",
       "min    31.016667  18.575000   2.025000  17.000000   0.000000   5.533333   \n",
       "25%    32.895833  20.485417   2.125000  30.539062   0.294792  21.008333   \n",
       "50%    34.911111  23.583333   2.539514  35.307292   0.542431  29.030833   \n",
       "75%    37.854167  25.770833   3.358333  46.541667   2.029167  32.183333   \n",
       "max    40.583333  28.916667   5.858333  63.591667   4.916667  38.275000   \n",
       "\n",
       "            ndvi       ndmi      msavi  \n",
       "count  80.000000  80.000000  80.000000  \n",
       "mean    0.456709   0.182156   0.269400  \n",
       "std     0.041139   0.084555   0.033963  \n",
       "min     0.352236   0.001569   0.188931  \n",
       "25%     0.430417   0.124604   0.244167  \n",
       "50%     0.456250   0.156250   0.267917  \n",
       "75%     0.488333   0.230833   0.290208  \n",
       "max     0.542500   0.366667   0.345833  "
      ]
     },
     "execution_count": 14,
     "metadata": {},
     "output_type": "execute_result"
    }
   ],
   "source": [
    "training_data.describe()"
   ]
  },
  {
   "cell_type": "code",
   "execution_count": 15,
   "id": "7324cd87",
   "metadata": {},
   "outputs": [
    {
     "data": {
      "text/plain": [
       "0    818\n",
       "1    836\n",
       "2    615\n",
       "3    719\n",
       "4    592\n",
       "Name: Yield, dtype: int64"
      ]
     },
     "execution_count": 15,
     "metadata": {},
     "output_type": "execute_result"
    }
   ],
   "source": [
    "training_label=data.iloc[:80, -1]\n",
    "training_label.head()"
   ]
  },
  {
   "cell_type": "code",
   "execution_count": 16,
   "id": "dcecbf75",
   "metadata": {},
   "outputs": [
    {
     "name": "stdout",
     "output_type": "stream",
     "text": [
      "shape: (80,)\n",
      "type: int64\n"
     ]
    }
   ],
   "source": [
    "print('shape:', training_label.shape)\n",
    "print('type:', training_label.dtype)"
   ]
  },
  {
   "cell_type": "code",
   "execution_count": 17,
   "id": "f42cbdab",
   "metadata": {},
   "outputs": [
    {
     "data": {
      "text/html": [
       "<div>\n",
       "<style scoped>\n",
       "    .dataframe tbody tr th:only-of-type {\n",
       "        vertical-align: middle;\n",
       "    }\n",
       "\n",
       "    .dataframe tbody tr th {\n",
       "        vertical-align: top;\n",
       "    }\n",
       "\n",
       "    .dataframe thead th {\n",
       "        text-align: right;\n",
       "    }\n",
       "</style>\n",
       "<table border=\"1\" class=\"dataframe\">\n",
       "  <thead>\n",
       "    <tr style=\"text-align: right;\">\n",
       "      <th></th>\n",
       "      <th>Location</th>\n",
       "      <th>Seed</th>\n",
       "      <th>N</th>\n",
       "      <th>P</th>\n",
       "      <th>K</th>\n",
       "      <th>Soil Fertlity</th>\n",
       "      <th>maxt</th>\n",
       "      <th>mint</th>\n",
       "      <th>wind</th>\n",
       "      <th>hum</th>\n",
       "      <th>preci</th>\n",
       "      <th>rain</th>\n",
       "      <th>ndvi</th>\n",
       "      <th>ndmi</th>\n",
       "      <th>msavi</th>\n",
       "    </tr>\n",
       "  </thead>\n",
       "  <tbody>\n",
       "    <tr>\n",
       "      <th>80</th>\n",
       "      <td>15</td>\n",
       "      <td>21</td>\n",
       "      <td>50</td>\n",
       "      <td>25</td>\n",
       "      <td>25</td>\n",
       "      <td>2</td>\n",
       "      <td>39.500000</td>\n",
       "      <td>27.750000</td>\n",
       "      <td>3.175000</td>\n",
       "      <td>28.083333</td>\n",
       "      <td>0.016667</td>\n",
       "      <td>6.316667</td>\n",
       "      <td>0.495000</td>\n",
       "      <td>0.206667</td>\n",
       "      <td>0.337500</td>\n",
       "    </tr>\n",
       "    <tr>\n",
       "      <th>81</th>\n",
       "      <td>15</td>\n",
       "      <td>21</td>\n",
       "      <td>80</td>\n",
       "      <td>25</td>\n",
       "      <td>25</td>\n",
       "      <td>2</td>\n",
       "      <td>39.333333</td>\n",
       "      <td>28.500000</td>\n",
       "      <td>4.266667</td>\n",
       "      <td>37.416667</td>\n",
       "      <td>0.425000</td>\n",
       "      <td>5.533333</td>\n",
       "      <td>0.458333</td>\n",
       "      <td>0.174167</td>\n",
       "      <td>0.306667</td>\n",
       "    </tr>\n",
       "    <tr>\n",
       "      <th>82</th>\n",
       "      <td>15</td>\n",
       "      <td>21</td>\n",
       "      <td>110</td>\n",
       "      <td>50</td>\n",
       "      <td>50</td>\n",
       "      <td>2</td>\n",
       "      <td>37.333333</td>\n",
       "      <td>26.916667</td>\n",
       "      <td>4.783333</td>\n",
       "      <td>37.750000</td>\n",
       "      <td>1.266667</td>\n",
       "      <td>22.516667</td>\n",
       "      <td>0.503333</td>\n",
       "      <td>0.248333</td>\n",
       "      <td>0.329167</td>\n",
       "    </tr>\n",
       "    <tr>\n",
       "      <th>83</th>\n",
       "      <td>15</td>\n",
       "      <td>21</td>\n",
       "      <td>110</td>\n",
       "      <td>70</td>\n",
       "      <td>50</td>\n",
       "      <td>2</td>\n",
       "      <td>40.000000</td>\n",
       "      <td>28.416667</td>\n",
       "      <td>5.625000</td>\n",
       "      <td>37.208333</td>\n",
       "      <td>0.600000</td>\n",
       "      <td>21.008333</td>\n",
       "      <td>0.437500</td>\n",
       "      <td>0.210000</td>\n",
       "      <td>0.336667</td>\n",
       "    </tr>\n",
       "    <tr>\n",
       "      <th>84</th>\n",
       "      <td>15</td>\n",
       "      <td>21</td>\n",
       "      <td>110</td>\n",
       "      <td>69</td>\n",
       "      <td>50</td>\n",
       "      <td>2</td>\n",
       "      <td>40.333333</td>\n",
       "      <td>27.166667</td>\n",
       "      <td>5.100000</td>\n",
       "      <td>36.250000</td>\n",
       "      <td>0.266667</td>\n",
       "      <td>11.308333</td>\n",
       "      <td>0.507500</td>\n",
       "      <td>0.208333</td>\n",
       "      <td>0.345000</td>\n",
       "    </tr>\n",
       "  </tbody>\n",
       "</table>\n",
       "</div>"
      ],
      "text/plain": [
       "    Location  Seed    N   P   K  Soil Fertlity       maxt       mint  \\\n",
       "80        15    21   50  25  25              2  39.500000  27.750000   \n",
       "81        15    21   80  25  25              2  39.333333  28.500000   \n",
       "82        15    21  110  50  50              2  37.333333  26.916667   \n",
       "83        15    21  110  70  50              2  40.000000  28.416667   \n",
       "84        15    21  110  69  50              2  40.333333  27.166667   \n",
       "\n",
       "        wind        hum     preci       rain      ndvi      ndmi     msavi  \n",
       "80  3.175000  28.083333  0.016667   6.316667  0.495000  0.206667  0.337500  \n",
       "81  4.266667  37.416667  0.425000   5.533333  0.458333  0.174167  0.306667  \n",
       "82  4.783333  37.750000  1.266667  22.516667  0.503333  0.248333  0.329167  \n",
       "83  5.625000  37.208333  0.600000  21.008333  0.437500  0.210000  0.336667  \n",
       "84  5.100000  36.250000  0.266667  11.308333  0.507500  0.208333  0.345000  "
      ]
     },
     "execution_count": 17,
     "metadata": {},
     "output_type": "execute_result"
    }
   ],
   "source": [
    "#testing data\n",
    "\n",
    "testing_data=data.iloc[80:, 0:15]\n",
    "testing_data.head()"
   ]
  },
  {
   "cell_type": "code",
   "execution_count": 18,
   "id": "ced010c1",
   "metadata": {},
   "outputs": [
    {
     "data": {
      "text/plain": [
       "80    602\n",
       "81    612\n",
       "82    621\n",
       "83    632\n",
       "84    698\n",
       "Name: Yield, dtype: int64"
      ]
     },
     "execution_count": 18,
     "metadata": {},
     "output_type": "execute_result"
    }
   ],
   "source": [
    "testing_label=data.iloc[80:, -1]\n",
    "testing_label.head()"
   ]
  },
  {
   "cell_type": "markdown",
   "id": "df4740a4",
   "metadata": {},
   "source": [
    "# Imported Linear regression model is Trained using training data"
   ]
  },
  {
   "cell_type": "code",
   "execution_count": 19,
   "id": "99f8b6a6",
   "metadata": {},
   "outputs": [],
   "source": [
    "# linear regression model from sklearn is used\n",
    "# normalization is performed\n",
    "model = linear_model.LinearRegression(normalize=True)\n",
    "\n",
    "#model is trained using our data\n",
    "model.fit(training_data,training_label)\n",
    "y_train_pred = model.predict(training_data)"
   ]
  },
  {
   "cell_type": "markdown",
   "id": "ba73f084",
   "metadata": {},
   "source": [
    "# Predication is performed by trained model using testing data"
   ]
  },
  {
   "cell_type": "code",
   "execution_count": 20,
   "id": "7186362b",
   "metadata": {},
   "outputs": [],
   "source": [
    "# Now prediction is formed using trained model\n",
    "y_predicted = model.predict(testing_data)"
   ]
  },
  {
   "cell_type": "code",
   "execution_count": 21,
   "id": "8d215a37",
   "metadata": {},
   "outputs": [
    {
     "name": "stdout",
     "output_type": "stream",
     "text": [
      "Feature: 0, Score: -56.32215\n",
      "Feature: 1, Score: -21.20460\n",
      "Feature: 2, Score: 1.38209\n",
      "Feature: 3, Score: -0.25331\n",
      "Feature: 4, Score: -1.49037\n",
      "Feature: 5, Score: -21.89845\n",
      "Feature: 6, Score: -22.18098\n",
      "Feature: 7, Score: 9.62697\n",
      "Feature: 8, Score: 60.37915\n",
      "Feature: 9, Score: -2.40457\n",
      "Feature: 10, Score: 7.69680\n",
      "Feature: 11, Score: -2.64231\n",
      "Feature: 12, Score: -296.55434\n",
      "Feature: 13, Score: -316.37800\n",
      "Feature: 14, Score: 1384.25115\n"
     ]
    },
    {
     "data": {
      "image/png": "[encoded data removed]",
      "text/plain": [
       "<Figure size 432x288 with 1 Axes>"
      ]
     },
     "metadata": {
      "needs_background": "light"
     },
     "output_type": "display_data"
    }
   ],
   "source": [
    "# Checking the importance of features\n",
    "importance = model.coef_\n",
    "\n",
    "# summarize feature importance\n",
    "for i,v in enumerate(importance):\n",
    "\tprint('Feature: %0d, Score: %.5f' % (i,v))\n",
    "# plot feature importance\n",
    "\n",
    "plt.bar([x for x in range(len(importance))], importance)\n",
    "plt.show()"
   ]
  },
  {
   "cell_type": "markdown",
   "id": "46709b16",
   "metadata": {},
   "source": [
    "# Evaluate the Model: Measure the Mean Sqaure Error"
   ]
  },
  {
   "cell_type": "code",
   "execution_count": 22,
   "id": "289232fa",
   "metadata": {},
   "outputs": [
    {
     "name": "stdout",
     "output_type": "stream",
     "text": [
      "Mean squared error is:  8427.469726703883\n",
      "Weights:  [-5.63221481e+01 -2.12046042e+01  1.38209098e+00 -2.53305359e-01\n",
      " -1.49037134e+00 -2.18984518e+01 -2.21809846e+01  9.62696832e+00\n",
      "  6.03791467e+01 -2.40457370e+00  7.69679886e+00 -2.64230673e+00\n",
      " -2.96554339e+02 -3.16378003e+02  1.38425115e+03]\n",
      "Intercept:  2223.7113703861414\n"
     ]
    }
   ],
   "source": [
    "# Model is evaluated by measuring Mean squared error\n",
    "print(\"Mean squared error is: \", mean_squared_error(testing_label, y_predicted))\n",
    "\n",
    "print(\"Weights: \", model.coef_)\n",
    "print(\"Intercept: \", model.intercept_)"
   ]
  },
  {
   "cell_type": "code",
   "execution_count": 23,
   "id": "8cdf87f6",
   "metadata": {},
   "outputs": [
    {
     "name": "stdout",
     "output_type": "stream",
     "text": [
      "MAE: 45.236\n",
      "MAE: 78.242\n"
     ]
    }
   ],
   "source": [
    "training_error= mean_absolute_error(training_label, y_train_pred)\n",
    "print('MAE: %.3f' % training_error)\n",
    "error= mean_absolute_error(testing_label, y_predicted)\n",
    "print('MAE: %.3f' % error)"
   ]
  },
  {
   "cell_type": "code",
   "execution_count": 24,
   "id": "3e814f47",
   "metadata": {},
   "outputs": [
    {
     "data": {
      "text/plain": [
       "<Figure size 432x288 with 0 Axes>"
      ]
     },
     "execution_count": 24,
     "metadata": {},
     "output_type": "execute_result"
    },
    {
     "data": {
      "image/png": "[encoded data removed]",
      "text/plain": [
       "<Figure size 432x288 with 1 Axes>"
      ]
     },
     "metadata": {
      "needs_background": "light"
     },
     "output_type": "display_data"
    },
    {
     "data": {
      "text/plain": [
       "<Figure size 432x288 with 0 Axes>"
      ]
     },
     "metadata": {},
     "output_type": "display_data"
    }
   ],
   "source": [
    "plt.plot(training_label, y_train_pred,'*r')\n",
    "plt.plot(testing_label, y_predicted, '*g')\n",
    "plt.figure()\n"
   ]
  },
  {
   "cell_type": "code",
   "execution_count": 25,
   "id": "04397f98",
   "metadata": {},
   "outputs": [
    {
     "data": {
      "text/plain": [
       "(80,)"
      ]
     },
     "execution_count": 25,
     "metadata": {},
     "output_type": "execute_result"
    }
   ],
   "source": [
    "\n",
    "x = training_data.iloc[:,14]\n",
    "x.shape\n",
    "y_train_pred.shape"
   ]
  },
  {
   "cell_type": "code",
   "execution_count": 26,
   "id": "6e8f6c04",
   "metadata": {},
   "outputs": [
    {
     "data": {
      "text/plain": [
       "(20,)"
      ]
     },
     "execution_count": 26,
     "metadata": {},
     "output_type": "execute_result"
    }
   ],
   "source": [
    "x1 = testing_data.iloc[:,14]\n",
    "x.shape\n",
    "y_predicted.shape"
   ]
  },
  {
   "cell_type": "code",
   "execution_count": 27,
   "id": "d3bf5a9d",
   "metadata": {},
   "outputs": [
    {
     "data": {
      "image/png": "[encoded data removed]",
      "text/plain": [
       "<Figure size 432x288 with 1 Axes>"
      ]
     },
     "metadata": {},
     "output_type": "display_data"
    }
   ],
   "source": [
    "plt.scatter(x, y_train_pred, color=\"black\")\n",
    "plt.plot(x1, y_predicted, color=\"blue\", linewidth=3)\n",
    "\n",
    "plt.xticks(())\n",
    "plt.yticks(())\n",
    "\n",
    "plt.show()"
   ]
  },
  {
   "cell_type": "markdown",
   "id": "e23619b9",
   "metadata": {},
   "source": [
    "#  Prediction for the new sample"
   ]
  },
  {
   "cell_type": "code",
   "execution_count": 28,
   "id": "85d43fbb",
   "metadata": {},
   "outputs": [],
   "source": [
    "#Just for checking I have taken testing sample"
   ]
  },
  {
   "cell_type": "code",
   "execution_count": 29,
   "id": "6b5c4eee",
   "metadata": {},
   "outputs": [
    {
     "name": "stdout",
     "output_type": "stream",
     "text": [
      "input features\n"
     ]
    },
    {
     "data": {
      "text/plain": [
       "Location          15.000000\n",
       "Seed              21.000000\n",
       "N                110.000000\n",
       "P                 70.000000\n",
       "K                 50.000000\n",
       "Soil Fertlity      2.000000\n",
       "maxt              40.000000\n",
       "mint              28.416667\n",
       "wind               5.625000\n",
       "hum               37.208333\n",
       "preci              0.600000\n",
       "rain              21.008333\n",
       "ndvi               0.437500\n",
       "ndmi               0.210000\n",
       "msavi              0.336667\n",
       "Name: 83, dtype: float64"
      ]
     },
     "execution_count": 29,
     "metadata": {},
     "output_type": "execute_result"
    }
   ],
   "source": [
    "print('input features')\n",
    "testing_data.iloc[3]"
   ]
  },
  {
   "cell_type": "code",
   "execution_count": 30,
   "id": "a6bd28af",
   "metadata": {},
   "outputs": [
    {
     "name": "stdout",
     "output_type": "stream",
     "text": [
      "Yield\n"
     ]
    },
    {
     "data": {
      "text/plain": [
       "632"
      ]
     },
     "execution_count": 30,
     "metadata": {},
     "output_type": "execute_result"
    }
   ],
   "source": [
    "print('Yield')\n",
    "testing_label.iloc[3]"
   ]
  },
  {
   "cell_type": "code",
   "execution_count": 31,
   "id": "9ecf344e",
   "metadata": {},
   "outputs": [],
   "source": [
    "# Here you can enter new input in array below"
   ]
  },
  {
   "cell_type": "code",
   "execution_count": 32,
   "id": "722e1dae",
   "metadata": {},
   "outputs": [
    {
     "data": {
      "text/plain": [
       "array([ 15.      ,  21.      , 110.      ,  70.      ,  50.      ,\n",
       "         2.      ,  40.      ,  28.416667,   5.625   ,  37.208333,\n",
       "         0.6     ,  21.00833 ,   0.4375  ,   0.21    ,   0.336667])"
      ]
     },
     "execution_count": 32,
     "metadata": {},
     "output_type": "execute_result"
    }
   ],
   "source": [
    "test_sample= np.array([15,21,110,70,50,2,40,28.416667,5.625,37.208333,0.6,21.00833,0.437500,0.21,0.336667])\n",
    "test_sample"
   ]
  },
  {
   "cell_type": "code",
   "execution_count": 33,
   "id": "41fdd563",
   "metadata": {},
   "outputs": [
    {
     "data": {
      "text/plain": [
       "(15,)"
      ]
     },
     "execution_count": 33,
     "metadata": {},
     "output_type": "execute_result"
    }
   ],
   "source": [
    "test_sample.shape"
   ]
  },
  {
   "cell_type": "code",
   "execution_count": 34,
   "id": "5089eb7e",
   "metadata": {},
   "outputs": [
    {
     "data": {
      "text/plain": [
       "numpy.ndarray"
      ]
     },
     "execution_count": 34,
     "metadata": {},
     "output_type": "execute_result"
    }
   ],
   "source": [
    "type(test_sample)"
   ]
  },
  {
   "cell_type": "code",
   "execution_count": 35,
   "id": "96f31c7e",
   "metadata": {},
   "outputs": [
    {
     "data": {
      "text/plain": [
       "1"
      ]
     },
     "execution_count": 35,
     "metadata": {},
     "output_type": "execute_result"
    }
   ],
   "source": [
    "test_sample.ndim"
   ]
  },
  {
   "cell_type": "code",
   "execution_count": 36,
   "id": "bf64a7e5",
   "metadata": {},
   "outputs": [
    {
     "name": "stdout",
     "output_type": "stream",
     "text": [
      "(1, 15)\n",
      "2\n"
     ]
    }
   ],
   "source": [
    "test_sample=test_sample.reshape(1,15)\n",
    "print(test_sample.shape)\n",
    "print(test_sample.ndim)"
   ]
  },
  {
   "cell_type": "code",
   "execution_count": 37,
   "id": "26b1871d",
   "metadata": {},
   "outputs": [],
   "source": [
    "y_predicted = model.predict(test_sample)"
   ]
  },
  {
   "cell_type": "code",
   "execution_count": 38,
   "id": "0ddd7661",
   "metadata": {},
   "outputs": [
    {
     "data": {
      "text/plain": [
       "array([805.01251775])"
      ]
     },
     "execution_count": 38,
     "metadata": {},
     "output_type": "execute_result"
    }
   ],
   "source": [
    "y_predicted"
   ]
  },
  {
   "cell_type": "code",
   "execution_count": null,
   "id": "7491f352",
   "metadata": {},
   "outputs": [],
   "source": []
  }
 ],
 "metadata": {
  "kernelspec": {
   "display_name": "Python 3 (ipykernel)",
   "language": "python",
   "name": "python3"
  },
  "language_info": {
   "codemirror_mode": {
    "name": "ipython",
    "version": 3
   },
   "file_extension": ".py",
   "mimetype": "text/x-python",
   "name": "python",
   "nbconvert_exporter": "python",
   "pygments_lexer": "ipython3",
   "version": "3.9.7"
  }
 },
 "nbformat": 4,
 "nbformat_minor": 5
}
